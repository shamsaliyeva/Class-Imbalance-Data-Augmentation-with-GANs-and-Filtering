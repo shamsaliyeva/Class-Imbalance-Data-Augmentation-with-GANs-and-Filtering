{
 "cells": [
  {
   "cell_type": "code",
   "execution_count": 1,
   "metadata": {},
   "outputs": [],
   "source": [
    "import sys\n",
    "import os\n",
    "# Add the scripts directory to the system path\n",
    "sys.path.append(os.path.abspath('../scripts'))"
   ]
  },
  {
   "cell_type": "code",
   "execution_count": null,
   "metadata": {},
   "outputs": [],
   "source": [
    "import pandas as pd\n",
    "from sklearn.tree import DecisionTreeClassifier\n",
    "from imblearn.over_sampling import SMOTE, SMOTENC\n",
    "from ydata_synthetic.synthesizers import ModelParameters, TrainParameters\n",
    "from data_preprocessing import preprocess_data, encode_categorical\n",
    "from utils import calculate_imbalance_ratio, filter_noisy_samples\n",
    "from plot_utils import plot_class_distribution, plot_confusion_matrix\n",
    "from evaluation import calculate_metrics, calculate_error_rate_per_class, f1_score_per_class, ks_test, chi2_test\n",
    "from data_augmentation import generate_synthetic_samples_ctgan, generate_synthetic_samples_wgangp"
   ]
  },
  {
   "cell_type": "code",
   "execution_count": 238,
   "metadata": {},
   "outputs": [],
   "source": [
    "# Load data\n",
    "file_path = \"../datasets/telco_customer_churn.csv\"\n",
    "df = pd.read_csv(file_path)"
   ]
  },
  {
   "cell_type": "markdown",
   "metadata": {},
   "source": [
    "## Data Loading and Preprocessing"
   ]
  },
  {
   "cell_type": "code",
   "execution_count": 239,
   "metadata": {},
   "outputs": [
    {
     "data": {
      "text/html": [
       "<div>\n",
       "<style scoped>\n",
       "    .dataframe tbody tr th:only-of-type {\n",
       "        vertical-align: middle;\n",
       "    }\n",
       "\n",
       "    .dataframe tbody tr th {\n",
       "        vertical-align: top;\n",
       "    }\n",
       "\n",
       "    .dataframe thead th {\n",
       "        text-align: right;\n",
       "    }\n",
       "</style>\n",
       "<table border=\"1\" class=\"dataframe\">\n",
       "  <thead>\n",
       "    <tr style=\"text-align: right;\">\n",
       "      <th></th>\n",
       "      <th>customerID</th>\n",
       "      <th>gender</th>\n",
       "      <th>SeniorCitizen</th>\n",
       "      <th>Partner</th>\n",
       "      <th>Dependents</th>\n",
       "      <th>tenure</th>\n",
       "      <th>PhoneService</th>\n",
       "      <th>MultipleLines</th>\n",
       "      <th>InternetService</th>\n",
       "      <th>OnlineSecurity</th>\n",
       "      <th>...</th>\n",
       "      <th>DeviceProtection</th>\n",
       "      <th>TechSupport</th>\n",
       "      <th>StreamingTV</th>\n",
       "      <th>StreamingMovies</th>\n",
       "      <th>Contract</th>\n",
       "      <th>PaperlessBilling</th>\n",
       "      <th>PaymentMethod</th>\n",
       "      <th>MonthlyCharges</th>\n",
       "      <th>TotalCharges</th>\n",
       "      <th>Churn</th>\n",
       "    </tr>\n",
       "  </thead>\n",
       "  <tbody>\n",
       "    <tr>\n",
       "      <th>0</th>\n",
       "      <td>7590-VHVEG</td>\n",
       "      <td>Female</td>\n",
       "      <td>0</td>\n",
       "      <td>Yes</td>\n",
       "      <td>No</td>\n",
       "      <td>1</td>\n",
       "      <td>No</td>\n",
       "      <td>No phone service</td>\n",
       "      <td>DSL</td>\n",
       "      <td>No</td>\n",
       "      <td>...</td>\n",
       "      <td>No</td>\n",
       "      <td>No</td>\n",
       "      <td>No</td>\n",
       "      <td>No</td>\n",
       "      <td>Month-to-month</td>\n",
       "      <td>Yes</td>\n",
       "      <td>Electronic check</td>\n",
       "      <td>29.85</td>\n",
       "      <td>29.85</td>\n",
       "      <td>No</td>\n",
       "    </tr>\n",
       "    <tr>\n",
       "      <th>1</th>\n",
       "      <td>5575-GNVDE</td>\n",
       "      <td>Male</td>\n",
       "      <td>0</td>\n",
       "      <td>No</td>\n",
       "      <td>No</td>\n",
       "      <td>34</td>\n",
       "      <td>Yes</td>\n",
       "      <td>No</td>\n",
       "      <td>DSL</td>\n",
       "      <td>Yes</td>\n",
       "      <td>...</td>\n",
       "      <td>Yes</td>\n",
       "      <td>No</td>\n",
       "      <td>No</td>\n",
       "      <td>No</td>\n",
       "      <td>One year</td>\n",
       "      <td>No</td>\n",
       "      <td>Mailed check</td>\n",
       "      <td>56.95</td>\n",
       "      <td>1889.5</td>\n",
       "      <td>No</td>\n",
       "    </tr>\n",
       "    <tr>\n",
       "      <th>2</th>\n",
       "      <td>3668-QPYBK</td>\n",
       "      <td>Male</td>\n",
       "      <td>0</td>\n",
       "      <td>No</td>\n",
       "      <td>No</td>\n",
       "      <td>2</td>\n",
       "      <td>Yes</td>\n",
       "      <td>No</td>\n",
       "      <td>DSL</td>\n",
       "      <td>Yes</td>\n",
       "      <td>...</td>\n",
       "      <td>No</td>\n",
       "      <td>No</td>\n",
       "      <td>No</td>\n",
       "      <td>No</td>\n",
       "      <td>Month-to-month</td>\n",
       "      <td>Yes</td>\n",
       "      <td>Mailed check</td>\n",
       "      <td>53.85</td>\n",
       "      <td>108.15</td>\n",
       "      <td>Yes</td>\n",
       "    </tr>\n",
       "    <tr>\n",
       "      <th>3</th>\n",
       "      <td>7795-CFOCW</td>\n",
       "      <td>Male</td>\n",
       "      <td>0</td>\n",
       "      <td>No</td>\n",
       "      <td>No</td>\n",
       "      <td>45</td>\n",
       "      <td>No</td>\n",
       "      <td>No phone service</td>\n",
       "      <td>DSL</td>\n",
       "      <td>Yes</td>\n",
       "      <td>...</td>\n",
       "      <td>Yes</td>\n",
       "      <td>Yes</td>\n",
       "      <td>No</td>\n",
       "      <td>No</td>\n",
       "      <td>One year</td>\n",
       "      <td>No</td>\n",
       "      <td>Bank transfer (automatic)</td>\n",
       "      <td>42.30</td>\n",
       "      <td>1840.75</td>\n",
       "      <td>No</td>\n",
       "    </tr>\n",
       "    <tr>\n",
       "      <th>4</th>\n",
       "      <td>9237-HQITU</td>\n",
       "      <td>Female</td>\n",
       "      <td>0</td>\n",
       "      <td>No</td>\n",
       "      <td>No</td>\n",
       "      <td>2</td>\n",
       "      <td>Yes</td>\n",
       "      <td>No</td>\n",
       "      <td>Fiber optic</td>\n",
       "      <td>No</td>\n",
       "      <td>...</td>\n",
       "      <td>No</td>\n",
       "      <td>No</td>\n",
       "      <td>No</td>\n",
       "      <td>No</td>\n",
       "      <td>Month-to-month</td>\n",
       "      <td>Yes</td>\n",
       "      <td>Electronic check</td>\n",
       "      <td>70.70</td>\n",
       "      <td>151.65</td>\n",
       "      <td>Yes</td>\n",
       "    </tr>\n",
       "  </tbody>\n",
       "</table>\n",
       "<p>5 rows × 21 columns</p>\n",
       "</div>"
      ],
      "text/plain": [
       "   customerID  gender  SeniorCitizen Partner Dependents  tenure PhoneService  \\\n",
       "0  7590-VHVEG  Female              0     Yes         No       1           No   \n",
       "1  5575-GNVDE    Male              0      No         No      34          Yes   \n",
       "2  3668-QPYBK    Male              0      No         No       2          Yes   \n",
       "3  7795-CFOCW    Male              0      No         No      45           No   \n",
       "4  9237-HQITU  Female              0      No         No       2          Yes   \n",
       "\n",
       "      MultipleLines InternetService OnlineSecurity  ... DeviceProtection  \\\n",
       "0  No phone service             DSL             No  ...               No   \n",
       "1                No             DSL            Yes  ...              Yes   \n",
       "2                No             DSL            Yes  ...               No   \n",
       "3  No phone service             DSL            Yes  ...              Yes   \n",
       "4                No     Fiber optic             No  ...               No   \n",
       "\n",
       "  TechSupport StreamingTV StreamingMovies        Contract PaperlessBilling  \\\n",
       "0          No          No              No  Month-to-month              Yes   \n",
       "1          No          No              No        One year               No   \n",
       "2          No          No              No  Month-to-month              Yes   \n",
       "3         Yes          No              No        One year               No   \n",
       "4          No          No              No  Month-to-month              Yes   \n",
       "\n",
       "               PaymentMethod MonthlyCharges  TotalCharges Churn  \n",
       "0           Electronic check          29.85         29.85    No  \n",
       "1               Mailed check          56.95        1889.5    No  \n",
       "2               Mailed check          53.85        108.15   Yes  \n",
       "3  Bank transfer (automatic)          42.30       1840.75    No  \n",
       "4           Electronic check          70.70        151.65   Yes  \n",
       "\n",
       "[5 rows x 21 columns]"
      ]
     },
     "execution_count": 239,
     "metadata": {},
     "output_type": "execute_result"
    }
   ],
   "source": [
    "df.head()"
   ]
  },
  {
   "cell_type": "code",
   "execution_count": 240,
   "metadata": {},
   "outputs": [
    {
     "data": {
      "text/plain": [
       "Index(['customerID', 'gender', 'SeniorCitizen', 'Partner', 'Dependents',\n",
       "       'tenure', 'PhoneService', 'MultipleLines', 'InternetService',\n",
       "       'OnlineSecurity', 'OnlineBackup', 'DeviceProtection', 'TechSupport',\n",
       "       'StreamingTV', 'StreamingMovies', 'Contract', 'PaperlessBilling',\n",
       "       'PaymentMethod', 'MonthlyCharges', 'TotalCharges', 'Churn'],\n",
       "      dtype='object')"
      ]
     },
     "execution_count": 240,
     "metadata": {},
     "output_type": "execute_result"
    }
   ],
   "source": [
    "df.columns"
   ]
  },
  {
   "cell_type": "code",
   "execution_count": 241,
   "metadata": {},
   "outputs": [
    {
     "name": "stdout",
     "output_type": "stream",
     "text": [
      "<class 'pandas.core.frame.DataFrame'>\n",
      "RangeIndex: 7043 entries, 0 to 7042\n",
      "Data columns (total 21 columns):\n",
      " #   Column            Non-Null Count  Dtype  \n",
      "---  ------            --------------  -----  \n",
      " 0   customerID        7043 non-null   object \n",
      " 1   gender            7043 non-null   object \n",
      " 2   SeniorCitizen     7043 non-null   int64  \n",
      " 3   Partner           7043 non-null   object \n",
      " 4   Dependents        7043 non-null   object \n",
      " 5   tenure            7043 non-null   int64  \n",
      " 6   PhoneService      7043 non-null   object \n",
      " 7   MultipleLines     7043 non-null   object \n",
      " 8   InternetService   7043 non-null   object \n",
      " 9   OnlineSecurity    7043 non-null   object \n",
      " 10  OnlineBackup      7043 non-null   object \n",
      " 11  DeviceProtection  7043 non-null   object \n",
      " 12  TechSupport       7043 non-null   object \n",
      " 13  StreamingTV       7043 non-null   object \n",
      " 14  StreamingMovies   7043 non-null   object \n",
      " 15  Contract          7043 non-null   object \n",
      " 16  PaperlessBilling  7043 non-null   object \n",
      " 17  PaymentMethod     7043 non-null   object \n",
      " 18  MonthlyCharges    7043 non-null   float64\n",
      " 19  TotalCharges      7043 non-null   object \n",
      " 20  Churn             7043 non-null   object \n",
      "dtypes: float64(1), int64(2), object(18)\n",
      "memory usage: 1.1+ MB\n"
     ]
    }
   ],
   "source": [
    "df.info()"
   ]
  },
  {
   "cell_type": "code",
   "execution_count": 242,
   "metadata": {},
   "outputs": [],
   "source": [
    "# convert datatype for 'TotalCharges'\n",
    "df['TotalCharges'] = pd.to_numeric(df['TotalCharges'], errors='coerce')"
   ]
  },
  {
   "cell_type": "code",
   "execution_count": 243,
   "metadata": {},
   "outputs": [],
   "source": [
    "discrete_columns = ['gender','SeniorCitizen', 'Partner', 'Dependents', 'PhoneService', 'MultipleLines',\n",
    "                    'InternetService', 'OnlineSecurity', 'OnlineBackup', 'DeviceProtection', 'TechSupport',\n",
    "                    'StreamingTV', 'StreamingMovies', 'Contract', 'PaperlessBilling',\n",
    "                     'PaymentMethod', 'Churn' ]\n",
    "continuous_columns = ['tenure', 'MonthlyCharges', 'TotalCharges']"
   ]
  },
  {
   "cell_type": "code",
   "execution_count": 244,
   "metadata": {},
   "outputs": [],
   "source": [
    "# Dropping the \"customerID\" column\n",
    "df.drop('customerID', axis=1, inplace=True)"
   ]
  },
  {
   "cell_type": "code",
   "execution_count": 245,
   "metadata": {},
   "outputs": [
    {
     "name": "stdout",
     "output_type": "stream",
     "text": [
      "gender               0\n",
      "SeniorCitizen        0\n",
      "Partner              0\n",
      "Dependents           0\n",
      "tenure               0\n",
      "PhoneService         0\n",
      "MultipleLines        0\n",
      "InternetService      0\n",
      "OnlineSecurity       0\n",
      "OnlineBackup         0\n",
      "DeviceProtection     0\n",
      "TechSupport          0\n",
      "StreamingTV          0\n",
      "StreamingMovies      0\n",
      "Contract             0\n",
      "PaperlessBilling     0\n",
      "PaymentMethod        0\n",
      "MonthlyCharges       0\n",
      "TotalCharges        11\n",
      "Churn                0\n",
      "dtype: int64\n"
     ]
    }
   ],
   "source": [
    "# check null values\n",
    "print(df.isna().sum())"
   ]
  },
  {
   "cell_type": "code",
   "execution_count": 246,
   "metadata": {},
   "outputs": [],
   "source": [
    "df.dropna(subset=['TotalCharges'], inplace=True)"
   ]
  },
  {
   "cell_type": "code",
   "execution_count": 247,
   "metadata": {},
   "outputs": [
    {
     "name": "stdout",
     "output_type": "stream",
     "text": [
      "Number of duplicate columns: 0\n"
     ]
    }
   ],
   "source": [
    "# Check for duplicate columns\n",
    "duplicate_columns = df.columns.duplicated().sum()\n",
    "\n",
    "print(\"Number of duplicate columns:\", duplicate_columns)"
   ]
  },
  {
   "cell_type": "code",
   "execution_count": 248,
   "metadata": {},
   "outputs": [
    {
     "data": {
      "image/png": "[encoded data removed]",
      "text/plain": [
       "<Figure size 500x500 with 1 Axes>"
      ]
     },
     "metadata": {},
     "output_type": "display_data"
    }
   ],
   "source": [
    "plot_class_distribution(df, 'Churn', title='Churn Class Distribution')"
   ]
  },
  {
   "cell_type": "code",
   "execution_count": 249,
   "metadata": {},
   "outputs": [
    {
     "name": "stdout",
     "output_type": "stream",
     "text": [
      "Imbalance Ratio: 2.7624398073836276\n"
     ]
    }
   ],
   "source": [
    "# Calculate imbalance ratio\n",
    "imbalance_ratio, _, _, _, _ = calculate_imbalance_ratio(df, 'Churn')\n",
    "print(\"Imbalance Ratio:\", imbalance_ratio)"
   ]
  },
  {
   "cell_type": "code",
   "execution_count": 250,
   "metadata": {},
   "outputs": [],
   "source": [
    "# Splitting the data into train and test sets with a 30:70 ratio\n",
    "X_train, X_test, y_train, y_test = preprocess_data(df)\n",
    "train_data = pd.concat([X_train, y_train], axis=1)"
   ]
  },
  {
   "cell_type": "code",
   "execution_count": 251,
   "metadata": {},
   "outputs": [
    {
     "name": "stdout",
     "output_type": "stream",
     "text": [
      "Imbalance Ratio: 2.7629969418960245\n",
      "Majority Class: No\n",
      "Number of Instances in Majority Class: 3614\n",
      "Minority Class: Yes\n",
      "Number of Instances in Minority Class: 1308\n"
     ]
    }
   ],
   "source": [
    "# Calculate imbalance ratio and class counts of training data\n",
    "imbalance_ratio, majority_class, majority_class_count, minority_class, minority_class_count = calculate_imbalance_ratio(train_data, 'Churn')\n",
    "\n",
    "# Print the results\n",
    "print(\"Imbalance Ratio:\", imbalance_ratio)\n",
    "print(\"Majority Class:\", majority_class)\n",
    "print(\"Number of Instances in Majority Class:\", majority_class_count)\n",
    "print(\"Minority Class:\", minority_class)\n",
    "print(\"Number of Instances in Minority Class:\", minority_class_count)\n"
   ]
  },
  {
   "cell_type": "markdown",
   "metadata": {},
   "source": [
    "## Decision Tree Training with Original Data"
   ]
  },
  {
   "cell_type": "code",
   "execution_count": 252,
   "metadata": {},
   "outputs": [],
   "source": [
    "# Encode categorical variables\n",
    "X_train, encoded_labels = encode_categorical(X_train)\n",
    "X_test, encoded_labels = encode_categorical(X_test)"
   ]
  },
  {
   "cell_type": "code",
   "execution_count": 253,
   "metadata": {},
   "outputs": [
    {
     "data": {
      "text/html": [
       "<style>#sk-container-id-18 {color: black;background-color: white;}#sk-container-id-18 pre{padding: 0;}#sk-container-id-18 div.sk-toggleable {background-color: white;}#sk-container-id-18 label.sk-toggleable__label {cursor: pointer;display: block;width: 100%;margin-bottom: 0;padding: 0.3em;box-sizing: border-box;text-align: center;}#sk-container-id-18 label.sk-toggleable__label-arrow:before {content: \"▸\";float: left;margin-right: 0.25em;color: #696969;}#sk-container-id-18 label.sk-toggleable__label-arrow:hover:before {color: black;}#sk-container-id-18 div.sk-estimator:hover label.sk-toggleable__label-arrow:before {color: black;}#sk-container-id-18 div.sk-toggleable__content {max-height: 0;max-width: 0;overflow: hidden;text-align: left;background-color: #f0f8ff;}#sk-container-id-18 div.sk-toggleable__content pre {margin: 0.2em;color: black;border-radius: 0.25em;background-color: #f0f8ff;}#sk-container-id-18 input.sk-toggleable__control:checked~div.sk-toggleable__content {max-height: 200px;max-width: 100%;overflow: auto;}#sk-container-id-18 input.sk-toggleable__control:checked~label.sk-toggleable__label-arrow:before {content: \"▾\";}#sk-container-id-18 div.sk-estimator input.sk-toggleable__control:checked~label.sk-toggleable__label {background-color: #d4ebff;}#sk-container-id-18 div.sk-label input.sk-toggleable__control:checked~label.sk-toggleable__label {background-color: #d4ebff;}#sk-container-id-18 input.sk-hidden--visually {border: 0;clip: rect(1px 1px 1px 1px);clip: rect(1px, 1px, 1px, 1px);height: 1px;margin: -1px;overflow: hidden;padding: 0;position: absolute;width: 1px;}#sk-container-id-18 div.sk-estimator {font-family: monospace;background-color: #f0f8ff;border: 1px dotted black;border-radius: 0.25em;box-sizing: border-box;margin-bottom: 0.5em;}#sk-container-id-18 div.sk-estimator:hover {background-color: #d4ebff;}#sk-container-id-18 div.sk-parallel-item::after {content: \"\";width: 100%;border-bottom: 1px solid gray;flex-grow: 1;}#sk-container-id-18 div.sk-label:hover label.sk-toggleable__label {background-color: #d4ebff;}#sk-container-id-18 div.sk-serial::before {content: \"\";position: absolute;border-left: 1px solid gray;box-sizing: border-box;top: 0;bottom: 0;left: 50%;z-index: 0;}#sk-container-id-18 div.sk-serial {display: flex;flex-direction: column;align-items: center;background-color: white;padding-right: 0.2em;padding-left: 0.2em;position: relative;}#sk-container-id-18 div.sk-item {position: relative;z-index: 1;}#sk-container-id-18 div.sk-parallel {display: flex;align-items: stretch;justify-content: center;background-color: white;position: relative;}#sk-container-id-18 div.sk-item::before, #sk-container-id-18 div.sk-parallel-item::before {content: \"\";position: absolute;border-left: 1px solid gray;box-sizing: border-box;top: 0;bottom: 0;left: 50%;z-index: -1;}#sk-container-id-18 div.sk-parallel-item {display: flex;flex-direction: column;z-index: 1;position: relative;background-color: white;}#sk-container-id-18 div.sk-parallel-item:first-child::after {align-self: flex-end;width: 50%;}#sk-container-id-18 div.sk-parallel-item:last-child::after {align-self: flex-start;width: 50%;}#sk-container-id-18 div.sk-parallel-item:only-child::after {width: 0;}#sk-container-id-18 div.sk-dashed-wrapped {border: 1px dashed gray;margin: 0 0.4em 0.5em 0.4em;box-sizing: border-box;padding-bottom: 0.4em;background-color: white;}#sk-container-id-18 div.sk-label label {font-family: monospace;font-weight: bold;display: inline-block;line-height: 1.2em;}#sk-container-id-18 div.sk-label-container {text-align: center;}#sk-container-id-18 div.sk-container {/* jupyter's `normalize.less` sets `[hidden] { display: none; }` but bootstrap.min.css set `[hidden] { display: none !important; }` so we also need the `!important` here to be able to override the default hidden behavior on the sphinx rendered scikit-learn.org. See: https://github.com/scikit-learn/scikit-learn/issues/21755 */display: inline-block !important;position: relative;}#sk-container-id-18 div.sk-text-repr-fallback {display: none;}</style><div id=\"sk-container-id-18\" class=\"sk-top-container\"><div class=\"sk-text-repr-fallback\"><pre>DecisionTreeClassifier(criterion=&#x27;entropy&#x27;, max_depth=7, max_features=&#x27;log2&#x27;,\n",
       "                       random_state=42)</pre><b>In a Jupyter environment, please rerun this cell to show the HTML representation or trust the notebook. <br />On GitHub, the HTML representation is unable to render, please try loading this page with nbviewer.org.</b></div><div class=\"sk-container\" hidden><div class=\"sk-item\"><div class=\"sk-estimator sk-toggleable\"><input class=\"sk-toggleable__control sk-hidden--visually\" id=\"sk-estimator-id-18\" type=\"checkbox\" checked><label for=\"sk-estimator-id-18\" class=\"sk-toggleable__label sk-toggleable__label-arrow\">DecisionTreeClassifier</label><div class=\"sk-toggleable__content\"><pre>DecisionTreeClassifier(criterion=&#x27;entropy&#x27;, max_depth=7, max_features=&#x27;log2&#x27;,\n",
       "                       random_state=42)</pre></div></div></div></div></div>"
      ],
      "text/plain": [
       "DecisionTreeClassifier(criterion='entropy', max_depth=7, max_features='log2',\n",
       "                       random_state=42)"
      ]
     },
     "execution_count": 253,
     "metadata": {},
     "output_type": "execute_result"
    }
   ],
   "source": [
    "# Train a decision tree classifier\n",
    "tree_model = DecisionTreeClassifier(criterion='entropy', max_depth=7, max_features='log2', random_state=42)\n",
    "tree_model.fit(X_train, y_train)"
   ]
  },
  {
   "cell_type": "code",
   "execution_count": 254,
   "metadata": {},
   "outputs": [
    {
     "data": {
      "text/html": [
       "<div>\n",
       "<style scoped>\n",
       "    .dataframe tbody tr th:only-of-type {\n",
       "        vertical-align: middle;\n",
       "    }\n",
       "\n",
       "    .dataframe tbody tr th {\n",
       "        vertical-align: top;\n",
       "    }\n",
       "\n",
       "    .dataframe thead th {\n",
       "        text-align: right;\n",
       "    }\n",
       "</style>\n",
       "<table border=\"1\" class=\"dataframe\">\n",
       "  <thead>\n",
       "    <tr style=\"text-align: right;\">\n",
       "      <th></th>\n",
       "      <th>Score</th>\n",
       "    </tr>\n",
       "  </thead>\n",
       "  <tbody>\n",
       "    <tr>\n",
       "      <th>Accuracy</th>\n",
       "      <td>0.784360</td>\n",
       "    </tr>\n",
       "    <tr>\n",
       "      <th>F1-score (macro)</th>\n",
       "      <td>0.708001</td>\n",
       "    </tr>\n",
       "    <tr>\n",
       "      <th>Recall (macro)</th>\n",
       "      <td>0.697937</td>\n",
       "    </tr>\n",
       "    <tr>\n",
       "      <th>Geometric Mean</th>\n",
       "      <td>0.673090</td>\n",
       "    </tr>\n",
       "    <tr>\n",
       "      <th>Cohen's Kappa</th>\n",
       "      <td>0.417470</td>\n",
       "    </tr>\n",
       "  </tbody>\n",
       "</table>\n",
       "</div>"
      ],
      "text/plain": [
       "                     Score\n",
       "Accuracy          0.784360\n",
       "F1-score (macro)  0.708001\n",
       "Recall (macro)    0.697937\n",
       "Geometric Mean    0.673090\n",
       "Cohen's Kappa     0.417470"
      ]
     },
     "execution_count": 254,
     "metadata": {},
     "output_type": "execute_result"
    }
   ],
   "source": [
    "# Make predictions on the testing data\n",
    "y_pred = tree_model.predict(X_test)\n",
    "\n",
    "# Calculate metrics\n",
    "metrics_df = calculate_metrics(y_test, y_pred)\n",
    "metrics_df"
   ]
  },
  {
   "cell_type": "code",
   "execution_count": 255,
   "metadata": {},
   "outputs": [
    {
     "data": {
      "image/png": "[encoded data removed]",
      "text/plain": [
       "<Figure size 400x300 with 1 Axes>"
      ]
     },
     "metadata": {},
     "output_type": "display_data"
    }
   ],
   "source": [
    "# Plot confusion matrix\n",
    "plot_confusion_matrix(y_test, y_pred)"
   ]
  },
  {
   "cell_type": "code",
   "execution_count": 256,
   "metadata": {},
   "outputs": [
    {
     "name": "stdout",
     "output_type": "stream",
     "text": [
      "Error rate per class:\n",
      "[0.11749516 0.48663102]\n",
      "\n",
      "F1 score per class:\n",
      "[0.85732204 0.55868089]\n"
     ]
    }
   ],
   "source": [
    "# Error rate per class\n",
    "print('Error rate per class:')\n",
    "print(calculate_error_rate_per_class(y_test, y_pred))\n",
    "\n",
    "# Error rate per class\n",
    "print('\\nF1 score per class:')\n",
    "print(f1_score_per_class(y_test, y_pred))"
   ]
  },
  {
   "cell_type": "markdown",
   "metadata": {},
   "source": [
    "## Tabular Synthetic Data Generation with CTGAN"
   ]
  },
  {
   "cell_type": "code",
   "execution_count": 320,
   "metadata": {},
   "outputs": [],
   "source": [
    "# Define the CTGAN model parameters\n",
    "ctgan_args = ModelParameters(batch_size=50, lr=0.0001, betas=(0.5, 0.9))\n",
    "\n",
    "# Define the training parameters\n",
    "train_args = TrainParameters(epochs=200)\n",
    "\n",
    "# Target column\n",
    "target_column = 'Churn'"
   ]
  },
  {
   "cell_type": "code",
   "execution_count": 321,
   "metadata": {},
   "outputs": [
    {
     "name": "stderr",
     "output_type": "stream",
     "text": [
      "c:\\Users\\ASUS\\anaconda3\\Lib\\site-packages\\sklearn\\cluster\\_kmeans.py:1382: UserWarning: KMeans is known to have a memory leak on Windows with MKL, when there are less chunks than available threads. You can avoid it by setting the environment variable OMP_NUM_THREADS=6.\n",
      "  warnings.warn(\n",
      "c:\\Users\\ASUS\\anaconda3\\Lib\\site-packages\\sklearn\\cluster\\_kmeans.py:1382: UserWarning: KMeans is known to have a memory leak on Windows with MKL, when there are less chunks than available threads. You can avoid it by setting the environment variable OMP_NUM_THREADS=6.\n",
      "  warnings.warn(\n",
      "c:\\Users\\ASUS\\anaconda3\\Lib\\site-packages\\sklearn\\cluster\\_kmeans.py:1382: UserWarning: KMeans is known to have a memory leak on Windows with MKL, when there are less chunks than available threads. You can avoid it by setting the environment variable OMP_NUM_THREADS=6.\n",
      "  warnings.warn(\n"
     ]
    },
    {
     "name": "stdout",
     "output_type": "stream",
     "text": [
      "Epoch: 0 | critic_loss: 4.687939643859863 | generator_loss: 0.9269081354141235\n",
      "Epoch: 1 | critic_loss: 2.0983762741088867 | generator_loss: 0.792934775352478\n",
      "Epoch: 2 | critic_loss: -0.34752988815307617 | generator_loss: 0.8356883525848389\n",
      "Epoch: 3 | critic_loss: -0.17581158876419067 | generator_loss: 0.07291865348815918\n",
      "Epoch: 4 | critic_loss: 0.6044237017631531 | generator_loss: -0.15078246593475342\n",
      "Epoch: 5 | critic_loss: 0.6369391083717346 | generator_loss: 0.00854349136352539\n",
      "Epoch: 6 | critic_loss: 0.4486277103424072 | generator_loss: 0.07236206531524658\n",
      "Epoch: 7 | critic_loss: 0.21624158322811127 | generator_loss: -0.3596026301383972\n",
      "Epoch: 8 | critic_loss: 0.37830060720443726 | generator_loss: -0.15873801708221436\n",
      "Epoch: 9 | critic_loss: -0.02123105525970459 | generator_loss: -0.39536595344543457\n",
      "Epoch: 10 | critic_loss: 0.45087406039237976 | generator_loss: -0.10265415906906128\n",
      "Epoch: 11 | critic_loss: 0.020535457879304886 | generator_loss: -0.46023207902908325\n",
      "Epoch: 12 | critic_loss: 0.0499841570854187 | generator_loss: -0.790902316570282\n",
      "Epoch: 13 | critic_loss: 0.236524760723114 | generator_loss: -0.36115384101867676\n",
      "Epoch: 14 | critic_loss: 0.4052041172981262 | generator_loss: -0.5404228568077087\n",
      "Epoch: 15 | critic_loss: 0.22185848653316498 | generator_loss: -0.2202838659286499\n",
      "Epoch: 16 | critic_loss: -0.12580762803554535 | generator_loss: -0.7247592210769653\n",
      "Epoch: 17 | critic_loss: 0.04121854901313782 | generator_loss: -0.2634223699569702\n",
      "Epoch: 18 | critic_loss: -0.05295628309249878 | generator_loss: -0.24065542221069336\n",
      "Epoch: 19 | critic_loss: -0.049486756324768066 | generator_loss: -0.6086742877960205\n",
      "Epoch: 20 | critic_loss: 0.4965707063674927 | generator_loss: -0.6033337116241455\n",
      "Epoch: 21 | critic_loss: 0.5651224851608276 | generator_loss: -0.32722723484039307\n",
      "Epoch: 22 | critic_loss: -0.45693203806877136 | generator_loss: -0.4046223759651184\n",
      "Epoch: 23 | critic_loss: -0.06187940761446953 | generator_loss: -1.119315266609192\n",
      "Epoch: 24 | critic_loss: -0.178972065448761 | generator_loss: -0.5508424043655396\n",
      "Epoch: 25 | critic_loss: 0.13486774265766144 | generator_loss: -0.5557494163513184\n",
      "Epoch: 26 | critic_loss: 0.26519912481307983 | generator_loss: -0.987911581993103\n",
      "Epoch: 27 | critic_loss: -0.12348420172929764 | generator_loss: -0.44288116693496704\n",
      "Epoch: 28 | critic_loss: -0.16181182861328125 | generator_loss: -0.6794941425323486\n",
      "Epoch: 29 | critic_loss: 0.12693607807159424 | generator_loss: -0.7563709616661072\n",
      "Epoch: 30 | critic_loss: -0.13222281634807587 | generator_loss: -0.9706929326057434\n",
      "Epoch: 31 | critic_loss: 0.33735501766204834 | generator_loss: -0.7198144793510437\n",
      "Epoch: 32 | critic_loss: 0.08354924619197845 | generator_loss: -0.498007595539093\n",
      "Epoch: 33 | critic_loss: 0.36684301495552063 | generator_loss: -0.4651861786842346\n",
      "Epoch: 34 | critic_loss: -0.5275542736053467 | generator_loss: -0.808440089225769\n",
      "Epoch: 35 | critic_loss: 0.094093918800354 | generator_loss: -0.8517589569091797\n",
      "Epoch: 36 | critic_loss: 0.020763397216796875 | generator_loss: -0.8473480939865112\n",
      "Epoch: 37 | critic_loss: -0.7834587097167969 | generator_loss: -0.6804955005645752\n",
      "Epoch: 38 | critic_loss: 0.3459298312664032 | generator_loss: -0.6555148363113403\n",
      "Epoch: 39 | critic_loss: 0.2980608344078064 | generator_loss: -0.4800184369087219\n",
      "Epoch: 40 | critic_loss: 0.2798908054828644 | generator_loss: -0.840522050857544\n",
      "Epoch: 41 | critic_loss: -0.022304832935333252 | generator_loss: -0.8169800043106079\n",
      "Epoch: 42 | critic_loss: -0.04808182269334793 | generator_loss: -0.8826296329498291\n",
      "Epoch: 43 | critic_loss: 0.2735119163990021 | generator_loss: -0.8480742573738098\n",
      "Epoch: 44 | critic_loss: -0.5789676308631897 | generator_loss: -0.6632030010223389\n",
      "Epoch: 45 | critic_loss: -0.282612144947052 | generator_loss: -0.9594136476516724\n",
      "Epoch: 46 | critic_loss: 0.2447596788406372 | generator_loss: -1.0731436014175415\n",
      "Epoch: 47 | critic_loss: 0.00571344792842865 | generator_loss: -0.8937263488769531\n",
      "Epoch: 48 | critic_loss: 0.16262544691562653 | generator_loss: -1.1293896436691284\n",
      "Epoch: 49 | critic_loss: -0.07401496171951294 | generator_loss: -1.106886625289917\n",
      "Epoch: 50 | critic_loss: 0.02843250334262848 | generator_loss: -0.771221935749054\n",
      "Epoch: 51 | critic_loss: -0.058403223752975464 | generator_loss: -0.7150133848190308\n",
      "Epoch: 52 | critic_loss: -0.2136915922164917 | generator_loss: -0.9925642013549805\n",
      "Epoch: 53 | critic_loss: 0.14336104691028595 | generator_loss: -0.8788396120071411\n",
      "Epoch: 54 | critic_loss: -0.0847625657916069 | generator_loss: -1.2605617046356201\n",
      "Epoch: 55 | critic_loss: 0.38597720861434937 | generator_loss: -1.2398630380630493\n",
      "Epoch: 56 | critic_loss: 0.4463564157485962 | generator_loss: -0.804223358631134\n",
      "Epoch: 57 | critic_loss: 0.336762934923172 | generator_loss: -0.9107538461685181\n",
      "Epoch: 58 | critic_loss: 0.13541555404663086 | generator_loss: -1.004317045211792\n",
      "Epoch: 59 | critic_loss: -0.06846290826797485 | generator_loss: -0.717535674571991\n",
      "Epoch: 60 | critic_loss: -0.2992628812789917 | generator_loss: -1.481245756149292\n",
      "Epoch: 61 | critic_loss: 0.20993195474147797 | generator_loss: -1.3919810056686401\n",
      "Epoch: 62 | critic_loss: 0.410208523273468 | generator_loss: -1.1877988576889038\n",
      "Epoch: 63 | critic_loss: -0.12337745726108551 | generator_loss: -1.2738244533538818\n",
      "Epoch: 64 | critic_loss: 0.02825777977705002 | generator_loss: -1.2716385126113892\n",
      "Epoch: 65 | critic_loss: 0.01821354776620865 | generator_loss: -1.3061004877090454\n",
      "Epoch: 66 | critic_loss: 0.2639308571815491 | generator_loss: -1.156503677368164\n",
      "Epoch: 67 | critic_loss: 0.25305792689323425 | generator_loss: -1.0999221801757812\n",
      "Epoch: 68 | critic_loss: -0.38338595628738403 | generator_loss: -0.8076776266098022\n",
      "Epoch: 69 | critic_loss: -0.2861400246620178 | generator_loss: -1.0050578117370605\n",
      "Epoch: 70 | critic_loss: 0.09763014316558838 | generator_loss: -1.3112484216690063\n",
      "Epoch: 71 | critic_loss: -0.4525305926799774 | generator_loss: -1.3655356168746948\n",
      "Epoch: 72 | critic_loss: 0.01894325017929077 | generator_loss: -0.9670475721359253\n",
      "Epoch: 73 | critic_loss: -0.4337955713272095 | generator_loss: -0.8507853746414185\n",
      "Epoch: 74 | critic_loss: 0.22581292688846588 | generator_loss: -0.838343620300293\n",
      "Epoch: 75 | critic_loss: -0.1941857933998108 | generator_loss: -0.888221800327301\n",
      "Epoch: 76 | critic_loss: 0.16395170986652374 | generator_loss: -0.9977535009384155\n",
      "Epoch: 77 | critic_loss: -0.058504506945610046 | generator_loss: -0.7018387913703918\n",
      "Epoch: 78 | critic_loss: -0.16426533460617065 | generator_loss: -0.8589345812797546\n",
      "Epoch: 79 | critic_loss: -0.40451136231422424 | generator_loss: -1.2303026914596558\n",
      "Epoch: 80 | critic_loss: -0.06613589823246002 | generator_loss: -0.723911702632904\n",
      "Epoch: 81 | critic_loss: 0.005846768617630005 | generator_loss: -0.7409502267837524\n",
      "Epoch: 82 | critic_loss: 0.23250800371170044 | generator_loss: -0.7415798306465149\n",
      "Epoch: 83 | critic_loss: -0.42877620458602905 | generator_loss: -0.8716390132904053\n",
      "Epoch: 84 | critic_loss: -0.47734421491622925 | generator_loss: -0.9537414312362671\n",
      "Epoch: 85 | critic_loss: 0.23496316373348236 | generator_loss: -0.8879797458648682\n",
      "Epoch: 86 | critic_loss: 0.09222163259983063 | generator_loss: -0.9277592897415161\n",
      "Epoch: 87 | critic_loss: -0.009951293468475342 | generator_loss: -1.1971817016601562\n",
      "Epoch: 88 | critic_loss: -0.9213731288909912 | generator_loss: -0.677503764629364\n",
      "Epoch: 89 | critic_loss: -0.18878653645515442 | generator_loss: -1.132224678993225\n",
      "Epoch: 90 | critic_loss: 0.08662626147270203 | generator_loss: -0.8084582090377808\n",
      "Epoch: 91 | critic_loss: -0.3357221484184265 | generator_loss: -0.7649589776992798\n",
      "Epoch: 92 | critic_loss: -0.17477411031723022 | generator_loss: -0.859904408454895\n",
      "Epoch: 93 | critic_loss: -0.29980310797691345 | generator_loss: -0.8557440638542175\n",
      "Epoch: 94 | critic_loss: 0.161110520362854 | generator_loss: -0.879469096660614\n",
      "Epoch: 95 | critic_loss: -0.7410615086555481 | generator_loss: -1.1052042245864868\n",
      "Epoch: 96 | critic_loss: -0.7087458372116089 | generator_loss: -0.29937463998794556\n",
      "Epoch: 97 | critic_loss: -0.3683898150920868 | generator_loss: -0.6962094306945801\n",
      "Epoch: 98 | critic_loss: -0.07610543072223663 | generator_loss: -0.8191368579864502\n",
      "Epoch: 99 | critic_loss: -0.38658952713012695 | generator_loss: -0.8360996246337891\n",
      "Epoch: 100 | critic_loss: 0.01827363297343254 | generator_loss: -0.44381505250930786\n",
      "Epoch: 101 | critic_loss: -0.020012378692626953 | generator_loss: -0.5144248604774475\n",
      "Epoch: 102 | critic_loss: 0.35274821519851685 | generator_loss: -0.504508376121521\n",
      "Epoch: 103 | critic_loss: -0.4522726535797119 | generator_loss: -0.814163327217102\n",
      "Epoch: 104 | critic_loss: -0.07859731465578079 | generator_loss: -0.27139127254486084\n",
      "Epoch: 105 | critic_loss: -0.2411510944366455 | generator_loss: -0.79208904504776\n",
      "Epoch: 106 | critic_loss: -1.3190281391143799 | generator_loss: -0.8175032138824463\n",
      "Epoch: 107 | critic_loss: -0.4634387493133545 | generator_loss: -0.7696912884712219\n",
      "Epoch: 108 | critic_loss: -0.6026864051818848 | generator_loss: -0.023227155208587646\n",
      "Epoch: 109 | critic_loss: -0.7221789360046387 | generator_loss: -0.22295567393302917\n",
      "Epoch: 110 | critic_loss: -0.18102015554904938 | generator_loss: -1.2063928842544556\n",
      "Epoch: 111 | critic_loss: 0.03191386163234711 | generator_loss: -0.27676376700401306\n",
      "Epoch: 112 | critic_loss: 0.083330437541008 | generator_loss: -0.23869219422340393\n",
      "Epoch: 113 | critic_loss: -0.7910638451576233 | generator_loss: -0.46146759390830994\n",
      "Epoch: 114 | critic_loss: -0.3665187656879425 | generator_loss: -0.6893742084503174\n",
      "Epoch: 115 | critic_loss: 0.1538798213005066 | generator_loss: -0.6467923521995544\n",
      "Epoch: 116 | critic_loss: -0.2403184324502945 | generator_loss: -0.1470392793416977\n",
      "Epoch: 117 | critic_loss: -0.05173735320568085 | generator_loss: -0.3219403326511383\n",
      "Epoch: 118 | critic_loss: -0.5659379363059998 | generator_loss: -0.27993059158325195\n",
      "Epoch: 119 | critic_loss: 0.38852888345718384 | generator_loss: -0.5796930193901062\n",
      "Epoch: 120 | critic_loss: -0.27883487939834595 | generator_loss: -0.48806437849998474\n",
      "Epoch: 121 | critic_loss: 0.0938316136598587 | generator_loss: -0.4084506034851074\n",
      "Epoch: 122 | critic_loss: -0.30832645297050476 | generator_loss: 0.17728696763515472\n",
      "Epoch: 123 | critic_loss: -0.1566956490278244 | generator_loss: -0.734248161315918\n",
      "Epoch: 124 | critic_loss: -0.8917213678359985 | generator_loss: -0.08953346312046051\n",
      "Epoch: 125 | critic_loss: 0.6340209245681763 | generator_loss: -0.37436437606811523\n",
      "Epoch: 126 | critic_loss: -0.8244190812110901 | generator_loss: -0.7770065665245056\n",
      "Epoch: 127 | critic_loss: -0.28367552161216736 | generator_loss: 0.34999755024909973\n",
      "Epoch: 128 | critic_loss: -0.5095064043998718 | generator_loss: -0.3413904309272766\n",
      "Epoch: 129 | critic_loss: 0.6698213219642639 | generator_loss: -0.5341455340385437\n",
      "Epoch: 130 | critic_loss: -0.6801835298538208 | generator_loss: -0.11758614331483841\n",
      "Epoch: 131 | critic_loss: -0.21362921595573425 | generator_loss: -0.5890607833862305\n",
      "Epoch: 132 | critic_loss: -0.71950763463974 | generator_loss: -0.47294947504997253\n",
      "Epoch: 133 | critic_loss: 0.05877816677093506 | generator_loss: -0.7145387530326843\n",
      "Epoch: 134 | critic_loss: -0.3070676326751709 | generator_loss: 0.18564292788505554\n",
      "Epoch: 135 | critic_loss: -0.5562111735343933 | generator_loss: -0.17344602942466736\n",
      "Epoch: 136 | critic_loss: -0.5958157777786255 | generator_loss: -0.1739761382341385\n",
      "Epoch: 137 | critic_loss: -0.4565798044204712 | generator_loss: 0.09924160689115524\n",
      "Epoch: 138 | critic_loss: -0.7217487096786499 | generator_loss: -0.5651240944862366\n",
      "Epoch: 139 | critic_loss: -0.7892616391181946 | generator_loss: -0.2867435812950134\n",
      "Epoch: 140 | critic_loss: -0.7833649516105652 | generator_loss: -0.4574086666107178\n",
      "Epoch: 141 | critic_loss: -0.6811504364013672 | generator_loss: -0.7051718831062317\n",
      "Epoch: 142 | critic_loss: 0.06285107135772705 | generator_loss: -0.4582386910915375\n",
      "Epoch: 143 | critic_loss: 0.3312177062034607 | generator_loss: -0.3732159733772278\n",
      "Epoch: 144 | critic_loss: -0.18204538524150848 | generator_loss: -0.6435194611549377\n",
      "Epoch: 145 | critic_loss: -0.7525684237480164 | generator_loss: -0.2968302071094513\n",
      "Epoch: 146 | critic_loss: -0.6002565622329712 | generator_loss: -0.41124427318573\n",
      "Epoch: 147 | critic_loss: -0.8229011297225952 | generator_loss: -0.048737913370132446\n",
      "Epoch: 148 | critic_loss: -0.4707717299461365 | generator_loss: -0.5277110934257507\n",
      "Epoch: 149 | critic_loss: -0.7105770111083984 | generator_loss: -0.8467967510223389\n",
      "Epoch: 150 | critic_loss: -0.6155213713645935 | generator_loss: -1.098866581916809\n",
      "Epoch: 151 | critic_loss: -0.6708215475082397 | generator_loss: -0.5958461761474609\n",
      "Epoch: 152 | critic_loss: -0.5786969065666199 | generator_loss: -0.2709192633628845\n",
      "Epoch: 153 | critic_loss: -1.123348593711853 | generator_loss: -0.5760069489479065\n",
      "Epoch: 154 | critic_loss: -0.9654348492622375 | generator_loss: -0.848116397857666\n",
      "Epoch: 155 | critic_loss: -0.6372069120407104 | generator_loss: -0.676685631275177\n",
      "Epoch: 156 | critic_loss: -0.747590184211731 | generator_loss: -0.6560842394828796\n",
      "Epoch: 157 | critic_loss: -0.7540606260299683 | generator_loss: -0.9119274020195007\n",
      "Epoch: 158 | critic_loss: 0.2612069249153137 | generator_loss: -0.8059602975845337\n",
      "Epoch: 159 | critic_loss: 0.17669713497161865 | generator_loss: -0.9731502532958984\n",
      "Epoch: 160 | critic_loss: -0.060210444033145905 | generator_loss: -0.3042057454586029\n",
      "Epoch: 161 | critic_loss: 0.03884875774383545 | generator_loss: -0.5479598045349121\n",
      "Epoch: 162 | critic_loss: -0.7132181525230408 | generator_loss: -1.018943190574646\n",
      "Epoch: 163 | critic_loss: -0.03512781858444214 | generator_loss: -0.5953029990196228\n",
      "Epoch: 164 | critic_loss: 0.27404528856277466 | generator_loss: -0.8118141889572144\n",
      "Epoch: 165 | critic_loss: 0.033447518944740295 | generator_loss: -0.4741077423095703\n",
      "Epoch: 166 | critic_loss: 0.0766407698392868 | generator_loss: -0.7374221086502075\n",
      "Epoch: 167 | critic_loss: 0.5959630608558655 | generator_loss: -0.5276304483413696\n",
      "Epoch: 168 | critic_loss: -0.05781695991754532 | generator_loss: -1.3776906728744507\n",
      "Epoch: 169 | critic_loss: -0.4319160282611847 | generator_loss: -0.6138691902160645\n",
      "Epoch: 170 | critic_loss: -0.6012758016586304 | generator_loss: -0.22022970020771027\n",
      "Epoch: 171 | critic_loss: -0.30750125646591187 | generator_loss: -0.9210827350616455\n",
      "Epoch: 172 | critic_loss: -0.11089039593935013 | generator_loss: -0.7688072323799133\n",
      "Epoch: 173 | critic_loss: -1.0776911973953247 | generator_loss: -1.0224754810333252\n",
      "Epoch: 174 | critic_loss: -0.7372006177902222 | generator_loss: -1.2048922777175903\n",
      "Epoch: 175 | critic_loss: -0.0184122696518898 | generator_loss: -1.2592962980270386\n",
      "Epoch: 176 | critic_loss: -0.6774803400039673 | generator_loss: -1.216637134552002\n",
      "Epoch: 177 | critic_loss: -0.3035120964050293 | generator_loss: -1.4816596508026123\n",
      "Epoch: 178 | critic_loss: -0.8568602800369263 | generator_loss: -1.0271763801574707\n",
      "Epoch: 179 | critic_loss: -0.4233955442905426 | generator_loss: -0.765158474445343\n",
      "Epoch: 180 | critic_loss: -0.3229671120643616 | generator_loss: -0.5786633491516113\n",
      "Epoch: 181 | critic_loss: -0.9104773998260498 | generator_loss: -1.3177490234375\n",
      "Epoch: 182 | critic_loss: -0.2805180549621582 | generator_loss: -1.5119167566299438\n",
      "Epoch: 183 | critic_loss: 0.35598868131637573 | generator_loss: -1.0607820749282837\n",
      "Epoch: 184 | critic_loss: -0.5038219690322876 | generator_loss: -1.0570909976959229\n",
      "Epoch: 185 | critic_loss: -0.23701000213623047 | generator_loss: -0.5927181839942932\n",
      "Epoch: 186 | critic_loss: 0.2980934977531433 | generator_loss: -0.379291296005249\n",
      "Epoch: 187 | critic_loss: 0.22576171159744263 | generator_loss: -0.8980714678764343\n",
      "Epoch: 188 | critic_loss: -0.8018394708633423 | generator_loss: -0.5980342626571655\n",
      "Epoch: 189 | critic_loss: -0.4131438732147217 | generator_loss: -0.8713847398757935\n",
      "Epoch: 190 | critic_loss: -0.36591166257858276 | generator_loss: -0.6731305718421936\n",
      "Epoch: 191 | critic_loss: 0.2324814796447754 | generator_loss: -0.9726923108100891\n",
      "Epoch: 192 | critic_loss: -0.3733662962913513 | generator_loss: -0.9964562058448792\n",
      "Epoch: 193 | critic_loss: -0.9854260683059692 | generator_loss: -1.0113568305969238\n",
      "Epoch: 194 | critic_loss: 0.026539966464042664 | generator_loss: -1.0164796113967896\n",
      "Epoch: 195 | critic_loss: -0.8198258876800537 | generator_loss: -0.6116897463798523\n",
      "Epoch: 196 | critic_loss: 0.2832943797111511 | generator_loss: -0.4456709027290344\n",
      "Epoch: 197 | critic_loss: 0.21140837669372559 | generator_loss: -1.4865316152572632\n",
      "Epoch: 198 | critic_loss: -0.9219033122062683 | generator_loss: -0.7340869903564453\n",
      "Epoch: 199 | critic_loss: 0.08878670632839203 | generator_loss: -0.5317379832267761\n"
     ]
    }
   ],
   "source": [
    "# Generate synthetic samples\n",
    "augmented_train_data_ctgan, synth_data_ctgan = generate_synthetic_samples_ctgan(train_data, minority_class, majority_class_count, minority_class_count, ctgan_args, train_args, continuous_columns, discrete_columns, target_column)"
   ]
  },
  {
   "cell_type": "code",
   "execution_count": 261,
   "metadata": {},
   "outputs": [],
   "source": [
    "minority_train_data = train_data[train_data[target_column] == minority_class]"
   ]
  },
  {
   "cell_type": "code",
   "execution_count": 262,
   "metadata": {},
   "outputs": [
    {
     "name": "stdout",
     "output_type": "stream",
     "text": [
      "KS Test Average Score: 0.7496912278654363\n"
     ]
    }
   ],
   "source": [
    "# Perform KS Test\n",
    "ks_results_df, average_ks_score = ks_test(synth_data_ctgan, minority_train_data, continuous_columns, target_column)\n",
    "print(\"KS Test Average Score:\", average_ks_score)"
   ]
  },
  {
   "cell_type": "code",
   "execution_count": 3,
   "metadata": {},
   "outputs": [
    {
     "name": "stdout",
     "output_type": "stream",
     "text": [
      "Chi-Square Test Average P-value: 0.5017611940990859\n"
     ]
    }
   ],
   "source": [
    "# Perform Chi-Square Test\n",
    "chi2_test_results_df, average_p_value = chi2_test(synth_data_ctgan, minority_train_data, discrete_columns, target_column)\n",
    "print(\"Chi-Square Test Average P-value:\", average_p_value)"
   ]
  },
  {
   "cell_type": "code",
   "execution_count": 264,
   "metadata": {},
   "outputs": [],
   "source": [
    "X_train_augmented_ctgan = augmented_train_data_ctgan.drop('Churn', axis=1)  # Features (all columns except the target variable)\n",
    "y_train_augmented_ctgan = augmented_train_data_ctgan['Churn']  # Target variable\n",
    "\n",
    "# Encode categorical variables\n",
    "X_train_augmented_ctgan, _ = encode_categorical(X_train_augmented_ctgan)"
   ]
  },
  {
   "cell_type": "code",
   "execution_count": 265,
   "metadata": {},
   "outputs": [
    {
     "data": {
      "text/html": [
       "<style>#sk-container-id-19 {color: black;background-color: white;}#sk-container-id-19 pre{padding: 0;}#sk-container-id-19 div.sk-toggleable {background-color: white;}#sk-container-id-19 label.sk-toggleable__label {cursor: pointer;display: block;width: 100%;margin-bottom: 0;padding: 0.3em;box-sizing: border-box;text-align: center;}#sk-container-id-19 label.sk-toggleable__label-arrow:before {content: \"▸\";float: left;margin-right: 0.25em;color: #696969;}#sk-container-id-19 label.sk-toggleable__label-arrow:hover:before {color: black;}#sk-container-id-19 div.sk-estimator:hover label.sk-toggleable__label-arrow:before {color: black;}#sk-container-id-19 div.sk-toggleable__content {max-height: 0;max-width: 0;overflow: hidden;text-align: left;background-color: #f0f8ff;}#sk-container-id-19 div.sk-toggleable__content pre {margin: 0.2em;color: black;border-radius: 0.25em;background-color: #f0f8ff;}#sk-container-id-19 input.sk-toggleable__control:checked~div.sk-toggleable__content {max-height: 200px;max-width: 100%;overflow: auto;}#sk-container-id-19 input.sk-toggleable__control:checked~label.sk-toggleable__label-arrow:before {content: \"▾\";}#sk-container-id-19 div.sk-estimator input.sk-toggleable__control:checked~label.sk-toggleable__label {background-color: #d4ebff;}#sk-container-id-19 div.sk-label input.sk-toggleable__control:checked~label.sk-toggleable__label {background-color: #d4ebff;}#sk-container-id-19 input.sk-hidden--visually {border: 0;clip: rect(1px 1px 1px 1px);clip: rect(1px, 1px, 1px, 1px);height: 1px;margin: -1px;overflow: hidden;padding: 0;position: absolute;width: 1px;}#sk-container-id-19 div.sk-estimator {font-family: monospace;background-color: #f0f8ff;border: 1px dotted black;border-radius: 0.25em;box-sizing: border-box;margin-bottom: 0.5em;}#sk-container-id-19 div.sk-estimator:hover {background-color: #d4ebff;}#sk-container-id-19 div.sk-parallel-item::after {content: \"\";width: 100%;border-bottom: 1px solid gray;flex-grow: 1;}#sk-container-id-19 div.sk-label:hover label.sk-toggleable__label {background-color: #d4ebff;}#sk-container-id-19 div.sk-serial::before {content: \"\";position: absolute;border-left: 1px solid gray;box-sizing: border-box;top: 0;bottom: 0;left: 50%;z-index: 0;}#sk-container-id-19 div.sk-serial {display: flex;flex-direction: column;align-items: center;background-color: white;padding-right: 0.2em;padding-left: 0.2em;position: relative;}#sk-container-id-19 div.sk-item {position: relative;z-index: 1;}#sk-container-id-19 div.sk-parallel {display: flex;align-items: stretch;justify-content: center;background-color: white;position: relative;}#sk-container-id-19 div.sk-item::before, #sk-container-id-19 div.sk-parallel-item::before {content: \"\";position: absolute;border-left: 1px solid gray;box-sizing: border-box;top: 0;bottom: 0;left: 50%;z-index: -1;}#sk-container-id-19 div.sk-parallel-item {display: flex;flex-direction: column;z-index: 1;position: relative;background-color: white;}#sk-container-id-19 div.sk-parallel-item:first-child::after {align-self: flex-end;width: 50%;}#sk-container-id-19 div.sk-parallel-item:last-child::after {align-self: flex-start;width: 50%;}#sk-container-id-19 div.sk-parallel-item:only-child::after {width: 0;}#sk-container-id-19 div.sk-dashed-wrapped {border: 1px dashed gray;margin: 0 0.4em 0.5em 0.4em;box-sizing: border-box;padding-bottom: 0.4em;background-color: white;}#sk-container-id-19 div.sk-label label {font-family: monospace;font-weight: bold;display: inline-block;line-height: 1.2em;}#sk-container-id-19 div.sk-label-container {text-align: center;}#sk-container-id-19 div.sk-container {/* jupyter's `normalize.less` sets `[hidden] { display: none; }` but bootstrap.min.css set `[hidden] { display: none !important; }` so we also need the `!important` here to be able to override the default hidden behavior on the sphinx rendered scikit-learn.org. See: https://github.com/scikit-learn/scikit-learn/issues/21755 */display: inline-block !important;position: relative;}#sk-container-id-19 div.sk-text-repr-fallback {display: none;}</style><div id=\"sk-container-id-19\" class=\"sk-top-container\"><div class=\"sk-text-repr-fallback\"><pre>DecisionTreeClassifier(criterion=&#x27;entropy&#x27;, max_depth=7, max_features=&#x27;log2&#x27;,\n",
       "                       random_state=42)</pre><b>In a Jupyter environment, please rerun this cell to show the HTML representation or trust the notebook. <br />On GitHub, the HTML representation is unable to render, please try loading this page with nbviewer.org.</b></div><div class=\"sk-container\" hidden><div class=\"sk-item\"><div class=\"sk-estimator sk-toggleable\"><input class=\"sk-toggleable__control sk-hidden--visually\" id=\"sk-estimator-id-19\" type=\"checkbox\" checked><label for=\"sk-estimator-id-19\" class=\"sk-toggleable__label sk-toggleable__label-arrow\">DecisionTreeClassifier</label><div class=\"sk-toggleable__content\"><pre>DecisionTreeClassifier(criterion=&#x27;entropy&#x27;, max_depth=7, max_features=&#x27;log2&#x27;,\n",
       "                       random_state=42)</pre></div></div></div></div></div>"
      ],
      "text/plain": [
       "DecisionTreeClassifier(criterion='entropy', max_depth=7, max_features='log2',\n",
       "                       random_state=42)"
      ]
     },
     "execution_count": 265,
     "metadata": {},
     "output_type": "execute_result"
    }
   ],
   "source": [
    "tree_model_ctgan = DecisionTreeClassifier(criterion = 'entropy', max_depth = 7, max_features = 'log2', random_state=42)\n",
    "tree_model_ctgan.fit(X_train_augmented_ctgan, y_train_augmented_ctgan)"
   ]
  },
  {
   "cell_type": "code",
   "execution_count": 266,
   "metadata": {},
   "outputs": [
    {
     "data": {
      "text/html": [
       "<div>\n",
       "<style scoped>\n",
       "    .dataframe tbody tr th:only-of-type {\n",
       "        vertical-align: middle;\n",
       "    }\n",
       "\n",
       "    .dataframe tbody tr th {\n",
       "        vertical-align: top;\n",
       "    }\n",
       "\n",
       "    .dataframe thead th {\n",
       "        text-align: right;\n",
       "    }\n",
       "</style>\n",
       "<table border=\"1\" class=\"dataframe\">\n",
       "  <thead>\n",
       "    <tr style=\"text-align: right;\">\n",
       "      <th></th>\n",
       "      <th>Score</th>\n",
       "    </tr>\n",
       "  </thead>\n",
       "  <tbody>\n",
       "    <tr>\n",
       "      <th>Accuracy</th>\n",
       "      <td>0.740284</td>\n",
       "    </tr>\n",
       "    <tr>\n",
       "      <th>F1-score (macro)</th>\n",
       "      <td>0.701800</td>\n",
       "    </tr>\n",
       "    <tr>\n",
       "      <th>Recall (macro)</th>\n",
       "      <td>0.732724</td>\n",
       "    </tr>\n",
       "    <tr>\n",
       "      <th>Geometric Mean</th>\n",
       "      <td>0.732546</td>\n",
       "    </tr>\n",
       "    <tr>\n",
       "      <th>Cohen's Kappa</th>\n",
       "      <td>0.411628</td>\n",
       "    </tr>\n",
       "  </tbody>\n",
       "</table>\n",
       "</div>"
      ],
      "text/plain": [
       "                     Score\n",
       "Accuracy          0.740284\n",
       "F1-score (macro)  0.701800\n",
       "Recall (macro)    0.732724\n",
       "Geometric Mean    0.732546\n",
       "Cohen's Kappa     0.411628"
      ]
     },
     "execution_count": 266,
     "metadata": {},
     "output_type": "execute_result"
    }
   ],
   "source": [
    "# Make predictions on the testing data\n",
    "y_pred_ctgan = tree_model_ctgan.predict(X_test)\n",
    "\n",
    "# Calculate metrics\n",
    "metrics_df_ctgan = calculate_metrics(y_test, y_pred_ctgan)\n",
    "metrics_df_ctgan"
   ]
  },
  {
   "cell_type": "code",
   "execution_count": 267,
   "metadata": {},
   "outputs": [
    {
     "data": {
      "image/png": "[encoded data removed]",
      "text/plain": [
       "<Figure size 400x300 with 1 Axes>"
      ]
     },
     "metadata": {},
     "output_type": "display_data"
    }
   ],
   "source": [
    "# Plot confusion matrix\n",
    "plot_confusion_matrix(y_test, y_pred_ctgan)"
   ]
  },
  {
   "cell_type": "code",
   "execution_count": 268,
   "metadata": {},
   "outputs": [
    {
     "name": "stdout",
     "output_type": "stream",
     "text": [
      "Error rate per class:\n",
      "[0.25112976 0.28342246]\n",
      "\n",
      "F1 score per class:\n",
      "[0.80892608 0.59467456]\n"
     ]
    }
   ],
   "source": [
    "# Error rate per class\n",
    "print('Error rate per class:')\n",
    "print(calculate_error_rate_per_class(y_test, y_pred_ctgan))\n",
    "\n",
    "# Error rate per class\n",
    "print('\\nF1 score per class:')\n",
    "print(f1_score_per_class(y_test, y_pred_ctgan))"
   ]
  },
  {
   "cell_type": "markdown",
   "metadata": {},
   "source": [
    "## Tabular Synthetic Data Generation with WGAN-GP"
   ]
  },
  {
   "cell_type": "code",
   "execution_count": 269,
   "metadata": {},
   "outputs": [],
   "source": [
    "# Define the training parameters\n",
    "noise_dim = 128\n",
    "dim = 128\n",
    "batch_size = 50\n",
    "\n",
    "log_step = 100\n",
    "epochs = 150\n",
    "learning_rate = [5e-4, 5e-4]\n",
    "beta_1 = 0.5\n",
    "beta_2 = 0.9\n",
    "n_critic = 5"
   ]
  },
  {
   "cell_type": "code",
   "execution_count": 270,
   "metadata": {},
   "outputs": [],
   "source": [
    "gan_args = ModelParameters(batch_size=batch_size,\n",
    "                           lr=learning_rate,\n",
    "                           betas=(beta_1, beta_2),\n",
    "                           noise_dim=noise_dim,\n",
    "                           layers_dim=dim)\n",
    "\n",
    "train_args = TrainParameters(epochs=epochs,\n",
    "                             sample_interval=log_step)"
   ]
  },
  {
   "cell_type": "code",
   "execution_count": 322,
   "metadata": {},
   "outputs": [
    {
     "name": "stderr",
     "output_type": "stream",
     "text": [
      "  0%|          | 1/200 [00:07<24:08,  7.28s/it]"
     ]
    },
    {
     "name": "stdout",
     "output_type": "stream",
     "text": [
      "Epoch: 0 | disc_loss: -0.12238870561122894 | gen_loss: 0.05679648742079735\n"
     ]
    },
    {
     "name": "stderr",
     "output_type": "stream",
     "text": [
      "  1%|          | 2/200 [00:07<11:15,  3.41s/it]"
     ]
    },
    {
     "name": "stdout",
     "output_type": "stream",
     "text": [
      "Epoch: 1 | disc_loss: -0.19591036438941956 | gen_loss: 0.08790668845176697\n"
     ]
    },
    {
     "name": "stderr",
     "output_type": "stream",
     "text": [
      "  2%|▏         | 3/200 [00:08<07:08,  2.18s/it]"
     ]
    },
    {
     "name": "stdout",
     "output_type": "stream",
     "text": [
      "Epoch: 2 | disc_loss: -0.2342248409986496 | gen_loss: 0.07376128435134888\n"
     ]
    },
    {
     "name": "stderr",
     "output_type": "stream",
     "text": [
      "  2%|▏         | 4/200 [00:09<05:13,  1.60s/it]"
     ]
    },
    {
     "name": "stdout",
     "output_type": "stream",
     "text": [
      "Epoch: 3 | disc_loss: -0.2301453799009323 | gen_loss: 0.13794711232185364\n"
     ]
    },
    {
     "name": "stderr",
     "output_type": "stream",
     "text": [
      "  2%|▎         | 5/200 [00:10<04:09,  1.28s/it]"
     ]
    },
    {
     "name": "stdout",
     "output_type": "stream",
     "text": [
      "Epoch: 4 | disc_loss: -0.2342466562986374 | gen_loss: 0.12793944776058197\n"
     ]
    },
    {
     "name": "stderr",
     "output_type": "stream",
     "text": [
      "  3%|▎         | 6/200 [00:10<03:30,  1.09s/it]"
     ]
    },
    {
     "name": "stdout",
     "output_type": "stream",
     "text": [
      "Epoch: 5 | disc_loss: -0.06583218276500702 | gen_loss: 0.10319746285676956\n"
     ]
    },
    {
     "name": "stderr",
     "output_type": "stream",
     "text": [
      "  4%|▎         | 7/200 [00:11<03:02,  1.06it/s]"
     ]
    },
    {
     "name": "stdout",
     "output_type": "stream",
     "text": [
      "Epoch: 6 | disc_loss: -0.2563168704509735 | gen_loss: 0.087148018181324\n"
     ]
    },
    {
     "name": "stderr",
     "output_type": "stream",
     "text": [
      "  4%|▍         | 8/200 [00:11<02:29,  1.28it/s]"
     ]
    },
    {
     "name": "stdout",
     "output_type": "stream",
     "text": [
      "Epoch: 7 | disc_loss: -0.12400603294372559 | gen_loss: 0.134707972407341\n"
     ]
    },
    {
     "name": "stderr",
     "output_type": "stream",
     "text": [
      "  4%|▍         | 9/200 [00:12<02:13,  1.43it/s]"
     ]
    },
    {
     "name": "stdout",
     "output_type": "stream",
     "text": [
      "Epoch: 8 | disc_loss: -0.10138416290283203 | gen_loss: 0.12936876714229584\n"
     ]
    },
    {
     "name": "stderr",
     "output_type": "stream",
     "text": [
      "  5%|▌         | 10/200 [00:13<02:10,  1.46it/s]"
     ]
    },
    {
     "name": "stdout",
     "output_type": "stream",
     "text": [
      "Epoch: 9 | disc_loss: -0.1923706829547882 | gen_loss: 0.16332638263702393\n"
     ]
    },
    {
     "name": "stderr",
     "output_type": "stream",
     "text": [
      "  6%|▌         | 11/200 [00:13<02:02,  1.55it/s]"
     ]
    },
    {
     "name": "stdout",
     "output_type": "stream",
     "text": [
      "Epoch: 10 | disc_loss: -0.2649684548377991 | gen_loss: 0.040475405752658844\n"
     ]
    },
    {
     "name": "stderr",
     "output_type": "stream",
     "text": [
      "  6%|▌         | 12/200 [00:14<01:59,  1.58it/s]"
     ]
    },
    {
     "name": "stdout",
     "output_type": "stream",
     "text": [
      "Epoch: 11 | disc_loss: -0.2467319220304489 | gen_loss: 0.07795251905918121\n"
     ]
    },
    {
     "name": "stderr",
     "output_type": "stream",
     "text": [
      "  6%|▋         | 13/200 [00:14<01:57,  1.59it/s]"
     ]
    },
    {
     "name": "stdout",
     "output_type": "stream",
     "text": [
      "Epoch: 12 | disc_loss: -0.2567184865474701 | gen_loss: 0.0901259034872055\n"
     ]
    },
    {
     "name": "stderr",
     "output_type": "stream",
     "text": [
      "  7%|▋         | 14/200 [00:15<01:56,  1.60it/s]"
     ]
    },
    {
     "name": "stdout",
     "output_type": "stream",
     "text": [
      "Epoch: 13 | disc_loss: -0.23224499821662903 | gen_loss: 0.08769252896308899\n"
     ]
    },
    {
     "name": "stderr",
     "output_type": "stream",
     "text": [
      "  8%|▊         | 15/200 [00:16<01:55,  1.60it/s]"
     ]
    },
    {
     "name": "stdout",
     "output_type": "stream",
     "text": [
      "Epoch: 14 | disc_loss: -0.2674017548561096 | gen_loss: 0.07271759957075119\n"
     ]
    },
    {
     "name": "stderr",
     "output_type": "stream",
     "text": [
      "  8%|▊         | 16/200 [00:16<01:59,  1.54it/s]"
     ]
    },
    {
     "name": "stdout",
     "output_type": "stream",
     "text": [
      "Epoch: 15 | disc_loss: -0.24977821111679077 | gen_loss: 0.10040326416492462\n"
     ]
    },
    {
     "name": "stderr",
     "output_type": "stream",
     "text": [
      "  8%|▊         | 17/200 [00:17<01:55,  1.59it/s]"
     ]
    },
    {
     "name": "stdout",
     "output_type": "stream",
     "text": [
      "Epoch: 16 | disc_loss: -0.25521931052207947 | gen_loss: 0.12831245362758636\n"
     ]
    },
    {
     "name": "stderr",
     "output_type": "stream",
     "text": [
      "  9%|▉         | 18/200 [00:18<01:58,  1.54it/s]"
     ]
    },
    {
     "name": "stdout",
     "output_type": "stream",
     "text": [
      "Epoch: 17 | disc_loss: -0.2431865632534027 | gen_loss: 0.11522169411182404\n"
     ]
    },
    {
     "name": "stderr",
     "output_type": "stream",
     "text": [
      " 10%|▉         | 19/200 [00:18<02:01,  1.50it/s]"
     ]
    },
    {
     "name": "stdout",
     "output_type": "stream",
     "text": [
      "Epoch: 18 | disc_loss: -0.2500300407409668 | gen_loss: 0.0927082747220993\n"
     ]
    },
    {
     "name": "stderr",
     "output_type": "stream",
     "text": [
      " 10%|█         | 20/200 [00:19<02:02,  1.46it/s]"
     ]
    },
    {
     "name": "stdout",
     "output_type": "stream",
     "text": [
      "Epoch: 19 | disc_loss: -0.22766858339309692 | gen_loss: 0.0942811518907547\n"
     ]
    },
    {
     "name": "stderr",
     "output_type": "stream",
     "text": [
      " 10%|█         | 21/200 [00:20<02:03,  1.44it/s]"
     ]
    },
    {
     "name": "stdout",
     "output_type": "stream",
     "text": [
      "Epoch: 20 | disc_loss: -0.22666876018047333 | gen_loss: 0.10908237099647522\n"
     ]
    },
    {
     "name": "stderr",
     "output_type": "stream",
     "text": [
      " 11%|█         | 22/200 [00:20<02:04,  1.43it/s]"
     ]
    },
    {
     "name": "stdout",
     "output_type": "stream",
     "text": [
      "Epoch: 21 | disc_loss: -0.2621608376502991 | gen_loss: 0.08813896775245667\n"
     ]
    },
    {
     "name": "stderr",
     "output_type": "stream",
     "text": [
      " 12%|█▏        | 23/200 [00:21<02:01,  1.46it/s]"
     ]
    },
    {
     "name": "stdout",
     "output_type": "stream",
     "text": [
      "Epoch: 22 | disc_loss: -0.24982155859470367 | gen_loss: 0.0879523977637291\n"
     ]
    },
    {
     "name": "stderr",
     "output_type": "stream",
     "text": [
      " 12%|█▏        | 24/200 [00:22<01:54,  1.54it/s]"
     ]
    },
    {
     "name": "stdout",
     "output_type": "stream",
     "text": [
      "Epoch: 23 | disc_loss: -0.1985953152179718 | gen_loss: 0.09541258960962296\n"
     ]
    },
    {
     "name": "stderr",
     "output_type": "stream",
     "text": [
      " 12%|█▎        | 25/200 [00:22<01:52,  1.55it/s]"
     ]
    },
    {
     "name": "stdout",
     "output_type": "stream",
     "text": [
      "Epoch: 24 | disc_loss: -0.14849182963371277 | gen_loss: 0.08957991003990173\n"
     ]
    },
    {
     "name": "stderr",
     "output_type": "stream",
     "text": [
      " 13%|█▎        | 26/200 [00:23<01:51,  1.56it/s]"
     ]
    },
    {
     "name": "stdout",
     "output_type": "stream",
     "text": [
      "Epoch: 25 | disc_loss: -0.1544252336025238 | gen_loss: 0.04598471149802208\n"
     ]
    },
    {
     "name": "stderr",
     "output_type": "stream",
     "text": [
      " 14%|█▎        | 27/200 [00:24<01:49,  1.59it/s]"
     ]
    },
    {
     "name": "stdout",
     "output_type": "stream",
     "text": [
      "Epoch: 26 | disc_loss: -0.22769318521022797 | gen_loss: 0.07051017880439758\n"
     ]
    },
    {
     "name": "stderr",
     "output_type": "stream",
     "text": [
      " 14%|█▍        | 28/200 [00:24<01:47,  1.60it/s]"
     ]
    },
    {
     "name": "stdout",
     "output_type": "stream",
     "text": [
      "Epoch: 27 | disc_loss: -0.21060679852962494 | gen_loss: 0.0577172227203846\n"
     ]
    },
    {
     "name": "stderr",
     "output_type": "stream",
     "text": [
      " 14%|█▍        | 29/200 [00:25<01:45,  1.62it/s]"
     ]
    },
    {
     "name": "stdout",
     "output_type": "stream",
     "text": [
      "Epoch: 28 | disc_loss: -0.24153214693069458 | gen_loss: 0.046883903443813324\n"
     ]
    },
    {
     "name": "stderr",
     "output_type": "stream",
     "text": [
      " 15%|█▌        | 30/200 [00:25<01:43,  1.64it/s]"
     ]
    },
    {
     "name": "stdout",
     "output_type": "stream",
     "text": [
      "Epoch: 29 | disc_loss: -0.24915218353271484 | gen_loss: 0.07018020749092102\n"
     ]
    },
    {
     "name": "stderr",
     "output_type": "stream",
     "text": [
      " 16%|█▌        | 31/200 [00:26<01:44,  1.62it/s]"
     ]
    },
    {
     "name": "stdout",
     "output_type": "stream",
     "text": [
      "Epoch: 30 | disc_loss: -0.23738083243370056 | gen_loss: 0.0409311018884182\n"
     ]
    },
    {
     "name": "stderr",
     "output_type": "stream",
     "text": [
      " 16%|█▌        | 32/200 [00:27<01:48,  1.55it/s]"
     ]
    },
    {
     "name": "stdout",
     "output_type": "stream",
     "text": [
      "Epoch: 31 | disc_loss: -0.2452906370162964 | gen_loss: 0.09280382841825485\n"
     ]
    },
    {
     "name": "stderr",
     "output_type": "stream",
     "text": [
      " 16%|█▋        | 33/200 [00:27<01:50,  1.52it/s]"
     ]
    },
    {
     "name": "stdout",
     "output_type": "stream",
     "text": [
      "Epoch: 32 | disc_loss: -0.18767228722572327 | gen_loss: 0.0504985935986042\n"
     ]
    },
    {
     "name": "stderr",
     "output_type": "stream",
     "text": [
      " 17%|█▋        | 34/200 [00:28<01:51,  1.49it/s]"
     ]
    },
    {
     "name": "stdout",
     "output_type": "stream",
     "text": [
      "Epoch: 33 | disc_loss: -0.23498110473155975 | gen_loss: 0.0622587576508522\n"
     ]
    },
    {
     "name": "stderr",
     "output_type": "stream",
     "text": [
      " 18%|█▊        | 35/200 [00:29<01:53,  1.46it/s]"
     ]
    },
    {
     "name": "stdout",
     "output_type": "stream",
     "text": [
      "Epoch: 34 | disc_loss: -0.23080149292945862 | gen_loss: 0.05583999678492546\n"
     ]
    },
    {
     "name": "stderr",
     "output_type": "stream",
     "text": [
      " 18%|█▊        | 36/200 [00:30<01:53,  1.44it/s]"
     ]
    },
    {
     "name": "stdout",
     "output_type": "stream",
     "text": [
      "Epoch: 35 | disc_loss: -0.21387013792991638 | gen_loss: 0.07059208303689957\n"
     ]
    },
    {
     "name": "stderr",
     "output_type": "stream",
     "text": [
      " 18%|█▊        | 37/200 [00:30<01:54,  1.43it/s]"
     ]
    },
    {
     "name": "stdout",
     "output_type": "stream",
     "text": [
      "Epoch: 36 | disc_loss: -0.20638106763362885 | gen_loss: 0.07460686564445496\n"
     ]
    },
    {
     "name": "stderr",
     "output_type": "stream",
     "text": [
      " 19%|█▉        | 38/200 [00:31<01:54,  1.42it/s]"
     ]
    },
    {
     "name": "stdout",
     "output_type": "stream",
     "text": [
      "Epoch: 37 | disc_loss: -0.22831867635250092 | gen_loss: 0.03290032595396042\n"
     ]
    },
    {
     "name": "stderr",
     "output_type": "stream",
     "text": [
      " 20%|█▉        | 39/200 [00:32<01:50,  1.46it/s]"
     ]
    },
    {
     "name": "stdout",
     "output_type": "stream",
     "text": [
      "Epoch: 38 | disc_loss: -0.14960986375808716 | gen_loss: 0.04504203423857689\n"
     ]
    },
    {
     "name": "stderr",
     "output_type": "stream",
     "text": [
      " 20%|██        | 40/200 [00:32<01:45,  1.51it/s]"
     ]
    },
    {
     "name": "stdout",
     "output_type": "stream",
     "text": [
      "Epoch: 39 | disc_loss: -0.11082696914672852 | gen_loss: 0.02385059744119644\n"
     ]
    },
    {
     "name": "stderr",
     "output_type": "stream",
     "text": [
      " 20%|██        | 41/200 [00:33<01:42,  1.55it/s]"
     ]
    },
    {
     "name": "stdout",
     "output_type": "stream",
     "text": [
      "Epoch: 40 | disc_loss: -0.22781360149383545 | gen_loss: 0.05383412539958954\n"
     ]
    },
    {
     "name": "stderr",
     "output_type": "stream",
     "text": [
      " 21%|██        | 42/200 [00:33<01:38,  1.60it/s]"
     ]
    },
    {
     "name": "stdout",
     "output_type": "stream",
     "text": [
      "Epoch: 41 | disc_loss: -0.24514074623584747 | gen_loss: 0.043496325612068176\n"
     ]
    },
    {
     "name": "stderr",
     "output_type": "stream",
     "text": [
      " 22%|██▏       | 43/200 [00:34<01:37,  1.61it/s]"
     ]
    },
    {
     "name": "stdout",
     "output_type": "stream",
     "text": [
      "Epoch: 42 | disc_loss: -0.21887457370758057 | gen_loss: 0.04374481365084648\n"
     ]
    },
    {
     "name": "stderr",
     "output_type": "stream",
     "text": [
      " 22%|██▏       | 44/200 [00:35<01:35,  1.64it/s]"
     ]
    },
    {
     "name": "stdout",
     "output_type": "stream",
     "text": [
      "Epoch: 43 | disc_loss: -0.22202645242214203 | gen_loss: 0.03407493978738785\n"
     ]
    },
    {
     "name": "stderr",
     "output_type": "stream",
     "text": [
      " 22%|██▎       | 45/200 [00:35<01:34,  1.65it/s]"
     ]
    },
    {
     "name": "stdout",
     "output_type": "stream",
     "text": [
      "Epoch: 44 | disc_loss: -0.21128684282302856 | gen_loss: 0.021335944533348083\n"
     ]
    },
    {
     "name": "stderr",
     "output_type": "stream",
     "text": [
      " 23%|██▎       | 46/200 [00:36<01:32,  1.66it/s]"
     ]
    },
    {
     "name": "stdout",
     "output_type": "stream",
     "text": [
      "Epoch: 45 | disc_loss: -0.22675903141498566 | gen_loss: 0.009046579711139202\n"
     ]
    },
    {
     "name": "stderr",
     "output_type": "stream",
     "text": [
      " 24%|██▎       | 47/200 [00:36<01:35,  1.59it/s]"
     ]
    },
    {
     "name": "stdout",
     "output_type": "stream",
     "text": [
      "Epoch: 46 | disc_loss: -0.22667938470840454 | gen_loss: 0.0288349911570549\n"
     ]
    },
    {
     "name": "stderr",
     "output_type": "stream",
     "text": [
      " 24%|██▍       | 48/200 [00:37<01:39,  1.53it/s]"
     ]
    },
    {
     "name": "stdout",
     "output_type": "stream",
     "text": [
      "Epoch: 47 | disc_loss: -0.20849594473838806 | gen_loss: 0.03891069069504738\n"
     ]
    },
    {
     "name": "stderr",
     "output_type": "stream",
     "text": [
      " 24%|██▍       | 49/200 [00:38<01:41,  1.49it/s]"
     ]
    },
    {
     "name": "stdout",
     "output_type": "stream",
     "text": [
      "Epoch: 48 | disc_loss: -0.21700695157051086 | gen_loss: 0.019911009818315506\n"
     ]
    },
    {
     "name": "stderr",
     "output_type": "stream",
     "text": [
      " 25%|██▌       | 50/200 [00:39<01:42,  1.47it/s]"
     ]
    },
    {
     "name": "stdout",
     "output_type": "stream",
     "text": [
      "Epoch: 49 | disc_loss: -0.20646202564239502 | gen_loss: 0.003369559533894062\n"
     ]
    },
    {
     "name": "stderr",
     "output_type": "stream",
     "text": [
      " 26%|██▌       | 51/200 [00:39<01:44,  1.42it/s]"
     ]
    },
    {
     "name": "stdout",
     "output_type": "stream",
     "text": [
      "Epoch: 50 | disc_loss: -0.22692565619945526 | gen_loss: 0.010152315720915794\n"
     ]
    },
    {
     "name": "stderr",
     "output_type": "stream",
     "text": [
      " 26%|██▌       | 52/200 [00:40<01:45,  1.40it/s]"
     ]
    },
    {
     "name": "stdout",
     "output_type": "stream",
     "text": [
      "Epoch: 51 | disc_loss: -0.21200694143772125 | gen_loss: 0.00011265404464211315\n"
     ]
    },
    {
     "name": "stderr",
     "output_type": "stream",
     "text": [
      " 26%|██▋       | 53/200 [00:41<01:44,  1.40it/s]"
     ]
    },
    {
     "name": "stdout",
     "output_type": "stream",
     "text": [
      "Epoch: 52 | disc_loss: -0.2016279548406601 | gen_loss: 0.01948428712785244\n"
     ]
    },
    {
     "name": "stderr",
     "output_type": "stream",
     "text": [
      " 27%|██▋       | 54/200 [00:41<01:33,  1.56it/s]"
     ]
    },
    {
     "name": "stdout",
     "output_type": "stream",
     "text": [
      "Epoch: 53 | disc_loss: -0.19587799906730652 | gen_loss: -0.017442649230360985\n"
     ]
    },
    {
     "name": "stderr",
     "output_type": "stream",
     "text": [
      " 28%|██▊       | 55/200 [00:42<01:32,  1.57it/s]"
     ]
    },
    {
     "name": "stdout",
     "output_type": "stream",
     "text": [
      "Epoch: 54 | disc_loss: -0.21123461425304413 | gen_loss: -0.008172376081347466\n"
     ]
    },
    {
     "name": "stderr",
     "output_type": "stream",
     "text": [
      " 28%|██▊       | 56/200 [00:43<01:31,  1.58it/s]"
     ]
    },
    {
     "name": "stdout",
     "output_type": "stream",
     "text": [
      "Epoch: 55 | disc_loss: -0.10998640954494476 | gen_loss: 0.012067019008100033\n"
     ]
    },
    {
     "name": "stderr",
     "output_type": "stream",
     "text": [
      " 28%|██▊       | 57/200 [00:43<01:29,  1.60it/s]"
     ]
    },
    {
     "name": "stdout",
     "output_type": "stream",
     "text": [
      "Epoch: 56 | disc_loss: -0.16832639276981354 | gen_loss: 0.0019465716322883964\n"
     ]
    },
    {
     "name": "stderr",
     "output_type": "stream",
     "text": [
      " 29%|██▉       | 58/200 [00:44<01:28,  1.60it/s]"
     ]
    },
    {
     "name": "stdout",
     "output_type": "stream",
     "text": [
      "Epoch: 57 | disc_loss: -0.18166719377040863 | gen_loss: -0.027792297303676605\n"
     ]
    },
    {
     "name": "stderr",
     "output_type": "stream",
     "text": [
      " 30%|██▉       | 59/200 [00:44<01:19,  1.78it/s]"
     ]
    },
    {
     "name": "stdout",
     "output_type": "stream",
     "text": [
      "Epoch: 58 | disc_loss: -0.16297930479049683 | gen_loss: 0.03352152928709984\n"
     ]
    },
    {
     "name": "stderr",
     "output_type": "stream",
     "text": [
      " 30%|███       | 60/200 [00:45<01:17,  1.81it/s]"
     ]
    },
    {
     "name": "stdout",
     "output_type": "stream",
     "text": [
      "Epoch: 59 | disc_loss: -0.18777136504650116 | gen_loss: -0.0006878416170366108\n"
     ]
    },
    {
     "name": "stderr",
     "output_type": "stream",
     "text": [
      " 30%|███       | 61/200 [00:45<01:19,  1.75it/s]"
     ]
    },
    {
     "name": "stdout",
     "output_type": "stream",
     "text": [
      "Epoch: 60 | disc_loss: -0.19008471071720123 | gen_loss: -0.01800738088786602\n"
     ]
    },
    {
     "name": "stderr",
     "output_type": "stream",
     "text": [
      " 31%|███       | 62/200 [00:46<01:20,  1.71it/s]"
     ]
    },
    {
     "name": "stdout",
     "output_type": "stream",
     "text": [
      "Epoch: 61 | disc_loss: -0.20727834105491638 | gen_loss: 0.002541592810302973\n"
     ]
    },
    {
     "name": "stderr",
     "output_type": "stream",
     "text": [
      " 32%|███▏      | 63/200 [00:47<01:22,  1.65it/s]"
     ]
    },
    {
     "name": "stdout",
     "output_type": "stream",
     "text": [
      "Epoch: 62 | disc_loss: -0.19556733965873718 | gen_loss: 0.010691629722714424\n"
     ]
    },
    {
     "name": "stderr",
     "output_type": "stream",
     "text": [
      " 32%|███▏      | 64/200 [00:47<01:26,  1.57it/s]"
     ]
    },
    {
     "name": "stdout",
     "output_type": "stream",
     "text": [
      "Epoch: 63 | disc_loss: -0.22129148244857788 | gen_loss: -0.028052007779479027\n"
     ]
    },
    {
     "name": "stderr",
     "output_type": "stream",
     "text": [
      " 32%|███▎      | 65/200 [00:48<01:28,  1.52it/s]"
     ]
    },
    {
     "name": "stdout",
     "output_type": "stream",
     "text": [
      "Epoch: 64 | disc_loss: -0.18490126729011536 | gen_loss: 0.0050912583246827126\n"
     ]
    },
    {
     "name": "stderr",
     "output_type": "stream",
     "text": [
      " 33%|███▎      | 66/200 [00:49<01:28,  1.51it/s]"
     ]
    },
    {
     "name": "stdout",
     "output_type": "stream",
     "text": [
      "Epoch: 65 | disc_loss: -0.06743234395980835 | gen_loss: -0.023187780752778053\n"
     ]
    },
    {
     "name": "stderr",
     "output_type": "stream",
     "text": [
      " 34%|███▎      | 67/200 [00:49<01:29,  1.48it/s]"
     ]
    },
    {
     "name": "stdout",
     "output_type": "stream",
     "text": [
      "Epoch: 66 | disc_loss: -0.13086643815040588 | gen_loss: -0.011895721778273582\n"
     ]
    },
    {
     "name": "stderr",
     "output_type": "stream",
     "text": [
      " 34%|███▍      | 68/200 [00:50<01:30,  1.46it/s]"
     ]
    },
    {
     "name": "stdout",
     "output_type": "stream",
     "text": [
      "Epoch: 67 | disc_loss: -0.2028351128101349 | gen_loss: 0.005323329474776983\n"
     ]
    },
    {
     "name": "stderr",
     "output_type": "stream",
     "text": [
      " 34%|███▍      | 69/200 [00:51<01:30,  1.44it/s]"
     ]
    },
    {
     "name": "stdout",
     "output_type": "stream",
     "text": [
      "Epoch: 68 | disc_loss: -0.13033375144004822 | gen_loss: -0.004511892329901457\n"
     ]
    },
    {
     "name": "stderr",
     "output_type": "stream",
     "text": [
      " 35%|███▌      | 70/200 [00:51<01:28,  1.46it/s]"
     ]
    },
    {
     "name": "stdout",
     "output_type": "stream",
     "text": [
      "Epoch: 69 | disc_loss: -0.21380715072155 | gen_loss: 0.005433108191937208\n"
     ]
    },
    {
     "name": "stderr",
     "output_type": "stream",
     "text": [
      " 36%|███▌      | 71/200 [00:52<01:24,  1.52it/s]"
     ]
    },
    {
     "name": "stdout",
     "output_type": "stream",
     "text": [
      "Epoch: 70 | disc_loss: -0.2075754702091217 | gen_loss: -0.017092369496822357\n"
     ]
    },
    {
     "name": "stderr",
     "output_type": "stream",
     "text": [
      " 36%|███▌      | 72/200 [00:53<01:22,  1.55it/s]"
     ]
    },
    {
     "name": "stdout",
     "output_type": "stream",
     "text": [
      "Epoch: 71 | disc_loss: -0.18065981566905975 | gen_loss: -0.011746185831725597\n"
     ]
    },
    {
     "name": "stderr",
     "output_type": "stream",
     "text": [
      " 36%|███▋      | 73/200 [00:53<01:20,  1.57it/s]"
     ]
    },
    {
     "name": "stdout",
     "output_type": "stream",
     "text": [
      "Epoch: 72 | disc_loss: -0.20299944281578064 | gen_loss: -0.017350420355796814\n"
     ]
    },
    {
     "name": "stderr",
     "output_type": "stream",
     "text": [
      " 37%|███▋      | 74/200 [00:54<01:18,  1.60it/s]"
     ]
    },
    {
     "name": "stdout",
     "output_type": "stream",
     "text": [
      "Epoch: 73 | disc_loss: -0.19284886121749878 | gen_loss: -0.0016286054160445929\n"
     ]
    },
    {
     "name": "stderr",
     "output_type": "stream",
     "text": [
      " 38%|███▊      | 75/200 [00:54<01:17,  1.61it/s]"
     ]
    },
    {
     "name": "stdout",
     "output_type": "stream",
     "text": [
      "Epoch: 74 | disc_loss: -0.1731683611869812 | gen_loss: -0.020358173176646233\n"
     ]
    },
    {
     "name": "stderr",
     "output_type": "stream",
     "text": [
      " 38%|███▊      | 76/200 [00:55<01:17,  1.61it/s]"
     ]
    },
    {
     "name": "stdout",
     "output_type": "stream",
     "text": [
      "Epoch: 75 | disc_loss: -0.15677109360694885 | gen_loss: -0.019649440422654152\n"
     ]
    },
    {
     "name": "stderr",
     "output_type": "stream",
     "text": [
      " 38%|███▊      | 77/200 [00:56<01:16,  1.61it/s]"
     ]
    },
    {
     "name": "stdout",
     "output_type": "stream",
     "text": [
      "Epoch: 76 | disc_loss: -0.17598365247249603 | gen_loss: -0.021163981407880783\n"
     ]
    },
    {
     "name": "stderr",
     "output_type": "stream",
     "text": [
      " 39%|███▉      | 78/200 [00:56<01:16,  1.59it/s]"
     ]
    },
    {
     "name": "stdout",
     "output_type": "stream",
     "text": [
      "Epoch: 77 | disc_loss: -0.20144066214561462 | gen_loss: -0.01822863705456257\n"
     ]
    },
    {
     "name": "stderr",
     "output_type": "stream",
     "text": [
      " 40%|███▉      | 79/200 [00:57<01:18,  1.54it/s]"
     ]
    },
    {
     "name": "stdout",
     "output_type": "stream",
     "text": [
      "Epoch: 78 | disc_loss: -0.1120966374874115 | gen_loss: -0.03614538908004761\n"
     ]
    },
    {
     "name": "stderr",
     "output_type": "stream",
     "text": [
      " 40%|████      | 80/200 [00:58<01:20,  1.49it/s]"
     ]
    },
    {
     "name": "stdout",
     "output_type": "stream",
     "text": [
      "Epoch: 79 | disc_loss: 0.0023469626903533936 | gen_loss: -0.04297842085361481\n"
     ]
    },
    {
     "name": "stderr",
     "output_type": "stream",
     "text": [
      " 40%|████      | 81/200 [00:58<01:20,  1.48it/s]"
     ]
    },
    {
     "name": "stdout",
     "output_type": "stream",
     "text": [
      "Epoch: 80 | disc_loss: -0.19680161774158478 | gen_loss: -0.03281718119978905\n"
     ]
    },
    {
     "name": "stderr",
     "output_type": "stream",
     "text": [
      " 41%|████      | 82/200 [00:59<01:21,  1.45it/s]"
     ]
    },
    {
     "name": "stdout",
     "output_type": "stream",
     "text": [
      "Epoch: 81 | disc_loss: -0.176112100481987 | gen_loss: 0.004383412189781666\n"
     ]
    },
    {
     "name": "stderr",
     "output_type": "stream",
     "text": [
      " 42%|████▏     | 83/200 [01:00<01:21,  1.44it/s]"
     ]
    },
    {
     "name": "stdout",
     "output_type": "stream",
     "text": [
      "Epoch: 82 | disc_loss: -0.17670172452926636 | gen_loss: -0.046662285923957825\n"
     ]
    },
    {
     "name": "stderr",
     "output_type": "stream",
     "text": [
      " 42%|████▏     | 84/200 [01:01<01:21,  1.42it/s]"
     ]
    },
    {
     "name": "stdout",
     "output_type": "stream",
     "text": [
      "Epoch: 83 | disc_loss: -0.17767846584320068 | gen_loss: -0.03547064960002899\n"
     ]
    },
    {
     "name": "stderr",
     "output_type": "stream",
     "text": [
      " 42%|████▎     | 85/200 [01:01<01:20,  1.42it/s]"
     ]
    },
    {
     "name": "stdout",
     "output_type": "stream",
     "text": [
      "Epoch: 84 | disc_loss: -0.19678539037704468 | gen_loss: -0.030558323487639427\n"
     ]
    },
    {
     "name": "stderr",
     "output_type": "stream",
     "text": [
      " 43%|████▎     | 86/200 [01:02<01:18,  1.45it/s]"
     ]
    },
    {
     "name": "stdout",
     "output_type": "stream",
     "text": [
      "Epoch: 85 | disc_loss: -0.16217410564422607 | gen_loss: -0.04306185618042946\n"
     ]
    },
    {
     "name": "stderr",
     "output_type": "stream",
     "text": [
      " 44%|████▎     | 87/200 [01:03<01:14,  1.51it/s]"
     ]
    },
    {
     "name": "stdout",
     "output_type": "stream",
     "text": [
      "Epoch: 86 | disc_loss: -0.1831134408712387 | gen_loss: -0.030059561133384705\n"
     ]
    },
    {
     "name": "stderr",
     "output_type": "stream",
     "text": [
      " 44%|████▍     | 88/200 [01:03<01:12,  1.54it/s]"
     ]
    },
    {
     "name": "stdout",
     "output_type": "stream",
     "text": [
      "Epoch: 87 | disc_loss: -0.13423994183540344 | gen_loss: -0.051572490483522415\n"
     ]
    },
    {
     "name": "stderr",
     "output_type": "stream",
     "text": [
      " 44%|████▍     | 89/200 [01:04<01:10,  1.58it/s]"
     ]
    },
    {
     "name": "stdout",
     "output_type": "stream",
     "text": [
      "Epoch: 88 | disc_loss: -0.1717546582221985 | gen_loss: -0.016903620213270187\n"
     ]
    },
    {
     "name": "stderr",
     "output_type": "stream",
     "text": [
      " 45%|████▌     | 90/200 [01:04<01:07,  1.63it/s]"
     ]
    },
    {
     "name": "stdout",
     "output_type": "stream",
     "text": [
      "Epoch: 89 | disc_loss: -0.18333648145198822 | gen_loss: -0.05226192995905876\n"
     ]
    },
    {
     "name": "stderr",
     "output_type": "stream",
     "text": [
      " 46%|████▌     | 91/200 [01:05<01:06,  1.65it/s]"
     ]
    },
    {
     "name": "stdout",
     "output_type": "stream",
     "text": [
      "Epoch: 90 | disc_loss: -0.17397533357143402 | gen_loss: -0.034463826566934586\n"
     ]
    },
    {
     "name": "stderr",
     "output_type": "stream",
     "text": [
      " 46%|████▌     | 92/200 [01:05<01:03,  1.71it/s]"
     ]
    },
    {
     "name": "stdout",
     "output_type": "stream",
     "text": [
      "Epoch: 91 | disc_loss: -0.17335475981235504 | gen_loss: -0.014395352452993393\n"
     ]
    },
    {
     "name": "stderr",
     "output_type": "stream",
     "text": [
      " 46%|████▋     | 93/200 [01:06<01:00,  1.76it/s]"
     ]
    },
    {
     "name": "stdout",
     "output_type": "stream",
     "text": [
      "Epoch: 92 | disc_loss: -0.1383432149887085 | gen_loss: -0.04840937629342079\n"
     ]
    },
    {
     "name": "stderr",
     "output_type": "stream",
     "text": [
      " 47%|████▋     | 94/200 [01:07<00:57,  1.83it/s]"
     ]
    },
    {
     "name": "stdout",
     "output_type": "stream",
     "text": [
      "Epoch: 93 | disc_loss: -0.09607946872711182 | gen_loss: -0.05561404302716255\n"
     ]
    },
    {
     "name": "stderr",
     "output_type": "stream",
     "text": [
      " 48%|████▊     | 95/200 [01:07<01:02,  1.69it/s]"
     ]
    },
    {
     "name": "stdout",
     "output_type": "stream",
     "text": [
      "Epoch: 94 | disc_loss: -0.17588858306407928 | gen_loss: -0.02517635188996792\n"
     ]
    },
    {
     "name": "stderr",
     "output_type": "stream",
     "text": [
      " 48%|████▊     | 96/200 [01:08<01:05,  1.60it/s]"
     ]
    },
    {
     "name": "stdout",
     "output_type": "stream",
     "text": [
      "Epoch: 95 | disc_loss: -0.18382136523723602 | gen_loss: -0.041433047503232956\n"
     ]
    },
    {
     "name": "stderr",
     "output_type": "stream",
     "text": [
      " 48%|████▊     | 97/200 [01:09<01:06,  1.54it/s]"
     ]
    },
    {
     "name": "stdout",
     "output_type": "stream",
     "text": [
      "Epoch: 96 | disc_loss: -0.0908309742808342 | gen_loss: -0.05582331493496895\n"
     ]
    },
    {
     "name": "stderr",
     "output_type": "stream",
     "text": [
      " 49%|████▉     | 98/200 [01:09<01:08,  1.50it/s]"
     ]
    },
    {
     "name": "stdout",
     "output_type": "stream",
     "text": [
      "Epoch: 97 | disc_loss: -0.14984950423240662 | gen_loss: -0.03362337499856949\n"
     ]
    },
    {
     "name": "stderr",
     "output_type": "stream",
     "text": [
      " 50%|████▉     | 99/200 [01:10<01:09,  1.46it/s]"
     ]
    },
    {
     "name": "stdout",
     "output_type": "stream",
     "text": [
      "Epoch: 98 | disc_loss: -0.16892772912979126 | gen_loss: -0.04727450758218765\n"
     ]
    },
    {
     "name": "stderr",
     "output_type": "stream",
     "text": [
      " 50%|█████     | 100/200 [01:11<01:08,  1.45it/s]"
     ]
    },
    {
     "name": "stdout",
     "output_type": "stream",
     "text": [
      "Epoch: 99 | disc_loss: -0.1566285789012909 | gen_loss: -0.041252635419368744\n"
     ]
    },
    {
     "name": "stderr",
     "output_type": "stream",
     "text": [
      " 50%|█████     | 101/200 [01:12<01:10,  1.41it/s]"
     ]
    },
    {
     "name": "stdout",
     "output_type": "stream",
     "text": [
      "Epoch: 100 | disc_loss: -0.08599267899990082 | gen_loss: -0.04286233335733414\n"
     ]
    },
    {
     "name": "stderr",
     "output_type": "stream",
     "text": [
      " 51%|█████     | 102/200 [01:12<01:08,  1.44it/s]"
     ]
    },
    {
     "name": "stdout",
     "output_type": "stream",
     "text": [
      "Epoch: 101 | disc_loss: -0.1460525095462799 | gen_loss: -0.05256412550806999\n"
     ]
    },
    {
     "name": "stderr",
     "output_type": "stream",
     "text": [
      " 52%|█████▏    | 103/200 [01:13<01:03,  1.52it/s]"
     ]
    },
    {
     "name": "stdout",
     "output_type": "stream",
     "text": [
      "Epoch: 102 | disc_loss: -0.1663462519645691 | gen_loss: -0.04940158501267433\n"
     ]
    },
    {
     "name": "stderr",
     "output_type": "stream",
     "text": [
      " 52%|█████▏    | 104/200 [01:13<00:56,  1.71it/s]"
     ]
    },
    {
     "name": "stdout",
     "output_type": "stream",
     "text": [
      "Epoch: 103 | disc_loss: -0.13981063663959503 | gen_loss: -0.03874963894486427\n"
     ]
    },
    {
     "name": "stderr",
     "output_type": "stream",
     "text": [
      " 52%|█████▎    | 105/200 [01:14<00:53,  1.78it/s]"
     ]
    },
    {
     "name": "stdout",
     "output_type": "stream",
     "text": [
      "Epoch: 104 | disc_loss: -0.18519680202007294 | gen_loss: -0.0368555448949337\n"
     ]
    },
    {
     "name": "stderr",
     "output_type": "stream",
     "text": [
      " 53%|█████▎    | 106/200 [01:14<00:54,  1.73it/s]"
     ]
    },
    {
     "name": "stdout",
     "output_type": "stream",
     "text": [
      "Epoch: 105 | disc_loss: -0.19696635007858276 | gen_loss: -0.03612576052546501\n"
     ]
    },
    {
     "name": "stderr",
     "output_type": "stream",
     "text": [
      " 54%|█████▎    | 107/200 [01:15<00:55,  1.67it/s]"
     ]
    },
    {
     "name": "stdout",
     "output_type": "stream",
     "text": [
      "Epoch: 106 | disc_loss: -0.16889320313930511 | gen_loss: -0.029658474028110504\n"
     ]
    },
    {
     "name": "stderr",
     "output_type": "stream",
     "text": [
      " 54%|█████▍    | 108/200 [01:16<00:54,  1.67it/s]"
     ]
    },
    {
     "name": "stdout",
     "output_type": "stream",
     "text": [
      "Epoch: 107 | disc_loss: -0.10230752825737 | gen_loss: -0.032123394310474396\n"
     ]
    },
    {
     "name": "stderr",
     "output_type": "stream",
     "text": [
      " 55%|█████▍    | 109/200 [01:16<00:55,  1.65it/s]"
     ]
    },
    {
     "name": "stdout",
     "output_type": "stream",
     "text": [
      "Epoch: 108 | disc_loss: -0.060702621936798096 | gen_loss: -0.042886458337306976\n"
     ]
    },
    {
     "name": "stderr",
     "output_type": "stream",
     "text": [
      " 55%|█████▌    | 110/200 [01:17<00:55,  1.61it/s]"
     ]
    },
    {
     "name": "stdout",
     "output_type": "stream",
     "text": [
      "Epoch: 109 | disc_loss: -0.16605019569396973 | gen_loss: -0.05202991142868996\n"
     ]
    },
    {
     "name": "stderr",
     "output_type": "stream",
     "text": [
      " 56%|█████▌    | 111/200 [01:18<00:57,  1.55it/s]"
     ]
    },
    {
     "name": "stdout",
     "output_type": "stream",
     "text": [
      "Epoch: 110 | disc_loss: -0.10647090524435043 | gen_loss: -0.032804250717163086\n"
     ]
    },
    {
     "name": "stderr",
     "output_type": "stream",
     "text": [
      " 56%|█████▌    | 112/200 [01:18<00:58,  1.51it/s]"
     ]
    },
    {
     "name": "stdout",
     "output_type": "stream",
     "text": [
      "Epoch: 111 | disc_loss: -0.14959335327148438 | gen_loss: -0.02444721944630146\n"
     ]
    },
    {
     "name": "stderr",
     "output_type": "stream",
     "text": [
      " 56%|█████▋    | 113/200 [01:19<00:56,  1.53it/s]"
     ]
    },
    {
     "name": "stdout",
     "output_type": "stream",
     "text": [
      "Epoch: 112 | disc_loss: -0.1780148595571518 | gen_loss: -0.0522545762360096\n"
     ]
    },
    {
     "name": "stderr",
     "output_type": "stream",
     "text": [
      " 57%|█████▋    | 114/200 [01:20<00:57,  1.50it/s]"
     ]
    },
    {
     "name": "stdout",
     "output_type": "stream",
     "text": [
      "Epoch: 113 | disc_loss: -0.16180269420146942 | gen_loss: -0.07621666043996811\n"
     ]
    },
    {
     "name": "stderr",
     "output_type": "stream",
     "text": [
      " 57%|█████▊    | 115/200 [01:20<00:57,  1.48it/s]"
     ]
    },
    {
     "name": "stdout",
     "output_type": "stream",
     "text": [
      "Epoch: 114 | disc_loss: -0.08453668653964996 | gen_loss: -0.05238894373178482\n"
     ]
    },
    {
     "name": "stderr",
     "output_type": "stream",
     "text": [
      " 58%|█████▊    | 116/200 [01:21<00:57,  1.47it/s]"
     ]
    },
    {
     "name": "stdout",
     "output_type": "stream",
     "text": [
      "Epoch: 115 | disc_loss: -0.15068991482257843 | gen_loss: -0.039429958909749985\n"
     ]
    },
    {
     "name": "stderr",
     "output_type": "stream",
     "text": [
      " 58%|█████▊    | 117/200 [01:22<00:56,  1.46it/s]"
     ]
    },
    {
     "name": "stdout",
     "output_type": "stream",
     "text": [
      "Epoch: 116 | disc_loss: -0.14785261452198029 | gen_loss: -0.02733812853693962\n"
     ]
    },
    {
     "name": "stderr",
     "output_type": "stream",
     "text": [
      " 59%|█████▉    | 118/200 [01:22<00:55,  1.48it/s]"
     ]
    },
    {
     "name": "stdout",
     "output_type": "stream",
     "text": [
      "Epoch: 117 | disc_loss: 0.005981162190437317 | gen_loss: -0.056872863322496414\n"
     ]
    },
    {
     "name": "stderr",
     "output_type": "stream",
     "text": [
      " 60%|█████▉    | 119/200 [01:23<00:52,  1.55it/s]"
     ]
    },
    {
     "name": "stdout",
     "output_type": "stream",
     "text": [
      "Epoch: 118 | disc_loss: -0.171138733625412 | gen_loss: -0.05835128203034401\n"
     ]
    },
    {
     "name": "stderr",
     "output_type": "stream",
     "text": [
      " 60%|██████    | 120/200 [01:23<00:50,  1.58it/s]"
     ]
    },
    {
     "name": "stdout",
     "output_type": "stream",
     "text": [
      "Epoch: 119 | disc_loss: -0.15122945606708527 | gen_loss: -0.05444050952792168\n"
     ]
    },
    {
     "name": "stderr",
     "output_type": "stream",
     "text": [
      " 60%|██████    | 121/200 [01:24<00:49,  1.61it/s]"
     ]
    },
    {
     "name": "stdout",
     "output_type": "stream",
     "text": [
      "Epoch: 120 | disc_loss: -0.05294981598854065 | gen_loss: -0.05161856487393379\n"
     ]
    },
    {
     "name": "stderr",
     "output_type": "stream",
     "text": [
      " 61%|██████    | 122/200 [01:25<00:48,  1.62it/s]"
     ]
    },
    {
     "name": "stdout",
     "output_type": "stream",
     "text": [
      "Epoch: 121 | disc_loss: -0.1492944359779358 | gen_loss: -0.054957419633865356\n"
     ]
    },
    {
     "name": "stderr",
     "output_type": "stream",
     "text": [
      " 62%|██████▏   | 123/200 [01:25<00:47,  1.62it/s]"
     ]
    },
    {
     "name": "stdout",
     "output_type": "stream",
     "text": [
      "Epoch: 122 | disc_loss: -0.15835241973400116 | gen_loss: -0.05216659978032112\n"
     ]
    },
    {
     "name": "stderr",
     "output_type": "stream",
     "text": [
      " 62%|██████▏   | 124/200 [01:26<00:46,  1.65it/s]"
     ]
    },
    {
     "name": "stdout",
     "output_type": "stream",
     "text": [
      "Epoch: 123 | disc_loss: -0.15549211204051971 | gen_loss: -0.0611095130443573\n"
     ]
    },
    {
     "name": "stderr",
     "output_type": "stream",
     "text": [
      " 62%|██████▎   | 125/200 [01:26<00:44,  1.67it/s]"
     ]
    },
    {
     "name": "stdout",
     "output_type": "stream",
     "text": [
      "Epoch: 124 | disc_loss: -0.16126872599124908 | gen_loss: -0.05188252031803131\n"
     ]
    },
    {
     "name": "stderr",
     "output_type": "stream",
     "text": [
      " 63%|██████▎   | 126/200 [01:27<00:45,  1.63it/s]"
     ]
    },
    {
     "name": "stdout",
     "output_type": "stream",
     "text": [
      "Epoch: 125 | disc_loss: -0.15044640004634857 | gen_loss: -0.04779414087533951\n"
     ]
    },
    {
     "name": "stderr",
     "output_type": "stream",
     "text": [
      " 64%|██████▎   | 127/200 [01:28<00:46,  1.55it/s]"
     ]
    },
    {
     "name": "stdout",
     "output_type": "stream",
     "text": [
      "Epoch: 126 | disc_loss: -0.15648147463798523 | gen_loss: -0.033962398767471313\n"
     ]
    },
    {
     "name": "stderr",
     "output_type": "stream",
     "text": [
      " 64%|██████▍   | 128/200 [01:28<00:46,  1.54it/s]"
     ]
    },
    {
     "name": "stdout",
     "output_type": "stream",
     "text": [
      "Epoch: 127 | disc_loss: -0.11846302449703217 | gen_loss: -0.08845999091863632\n"
     ]
    },
    {
     "name": "stderr",
     "output_type": "stream",
     "text": [
      " 64%|██████▍   | 129/200 [01:29<00:47,  1.50it/s]"
     ]
    },
    {
     "name": "stdout",
     "output_type": "stream",
     "text": [
      "Epoch: 128 | disc_loss: -0.1603025496006012 | gen_loss: -0.07272066920995712\n"
     ]
    },
    {
     "name": "stderr",
     "output_type": "stream",
     "text": [
      " 65%|██████▌   | 130/200 [01:30<00:47,  1.47it/s]"
     ]
    },
    {
     "name": "stdout",
     "output_type": "stream",
     "text": [
      "Epoch: 129 | disc_loss: -0.16839410364627838 | gen_loss: -0.06658192723989487\n"
     ]
    },
    {
     "name": "stderr",
     "output_type": "stream",
     "text": [
      " 66%|██████▌   | 131/200 [01:31<00:47,  1.46it/s]"
     ]
    },
    {
     "name": "stdout",
     "output_type": "stream",
     "text": [
      "Epoch: 130 | disc_loss: -0.13686290383338928 | gen_loss: -0.046823274344205856\n"
     ]
    },
    {
     "name": "stderr",
     "output_type": "stream",
     "text": [
      " 66%|██████▌   | 132/200 [01:31<00:45,  1.48it/s]"
     ]
    },
    {
     "name": "stdout",
     "output_type": "stream",
     "text": [
      "Epoch: 131 | disc_loss: -0.1615007370710373 | gen_loss: -0.0654231384396553\n"
     ]
    },
    {
     "name": "stderr",
     "output_type": "stream",
     "text": [
      " 66%|██████▋   | 133/200 [01:32<00:41,  1.63it/s]"
     ]
    },
    {
     "name": "stdout",
     "output_type": "stream",
     "text": [
      "Epoch: 132 | disc_loss: -0.16430258750915527 | gen_loss: -0.07615300267934799\n"
     ]
    },
    {
     "name": "stderr",
     "output_type": "stream",
     "text": [
      " 67%|██████▋   | 134/200 [01:32<00:39,  1.67it/s]"
     ]
    },
    {
     "name": "stdout",
     "output_type": "stream",
     "text": [
      "Epoch: 133 | disc_loss: -0.1557866781949997 | gen_loss: -0.04265410080552101\n"
     ]
    },
    {
     "name": "stderr",
     "output_type": "stream",
     "text": [
      " 68%|██████▊   | 135/200 [01:33<00:39,  1.67it/s]"
     ]
    },
    {
     "name": "stdout",
     "output_type": "stream",
     "text": [
      "Epoch: 134 | disc_loss: -0.12516212463378906 | gen_loss: -0.047998491674661636\n"
     ]
    },
    {
     "name": "stderr",
     "output_type": "stream",
     "text": [
      " 68%|██████▊   | 136/200 [01:33<00:38,  1.67it/s]"
     ]
    },
    {
     "name": "stdout",
     "output_type": "stream",
     "text": [
      "Epoch: 135 | disc_loss: -0.10959559679031372 | gen_loss: -0.06466749310493469\n"
     ]
    },
    {
     "name": "stderr",
     "output_type": "stream",
     "text": [
      " 68%|██████▊   | 137/200 [01:34<00:37,  1.67it/s]"
     ]
    },
    {
     "name": "stdout",
     "output_type": "stream",
     "text": [
      "Epoch: 136 | disc_loss: -0.14704525470733643 | gen_loss: -0.06348539143800735\n"
     ]
    },
    {
     "name": "stderr",
     "output_type": "stream",
     "text": [
      " 69%|██████▉   | 138/200 [01:35<00:36,  1.68it/s]"
     ]
    },
    {
     "name": "stdout",
     "output_type": "stream",
     "text": [
      "Epoch: 137 | disc_loss: -0.15346038341522217 | gen_loss: -0.07497113943099976\n"
     ]
    },
    {
     "name": "stderr",
     "output_type": "stream",
     "text": [
      " 70%|██████▉   | 139/200 [01:35<00:36,  1.69it/s]"
     ]
    },
    {
     "name": "stdout",
     "output_type": "stream",
     "text": [
      "Epoch: 138 | disc_loss: -0.15876780450344086 | gen_loss: -0.07972551137208939\n"
     ]
    },
    {
     "name": "stderr",
     "output_type": "stream",
     "text": [
      " 70%|███████   | 140/200 [01:36<00:35,  1.71it/s]"
     ]
    },
    {
     "name": "stdout",
     "output_type": "stream",
     "text": [
      "Epoch: 139 | disc_loss: -0.13436150550842285 | gen_loss: -0.05113476142287254\n"
     ]
    },
    {
     "name": "stderr",
     "output_type": "stream",
     "text": [
      " 70%|███████   | 141/200 [01:36<00:34,  1.70it/s]"
     ]
    },
    {
     "name": "stdout",
     "output_type": "stream",
     "text": [
      "Epoch: 140 | disc_loss: -0.14383381605148315 | gen_loss: -0.08319468796253204\n"
     ]
    },
    {
     "name": "stderr",
     "output_type": "stream",
     "text": [
      " 71%|███████   | 142/200 [01:37<00:31,  1.86it/s]"
     ]
    },
    {
     "name": "stdout",
     "output_type": "stream",
     "text": [
      "Epoch: 141 | disc_loss: -0.13764835894107819 | gen_loss: -0.052272602915763855\n"
     ]
    },
    {
     "name": "stderr",
     "output_type": "stream",
     "text": [
      " 72%|███████▏  | 143/200 [01:37<00:30,  1.87it/s]"
     ]
    },
    {
     "name": "stdout",
     "output_type": "stream",
     "text": [
      "Epoch: 142 | disc_loss: -0.09782352298498154 | gen_loss: -0.04386952891945839\n"
     ]
    },
    {
     "name": "stderr",
     "output_type": "stream",
     "text": [
      " 72%|███████▏  | 144/200 [01:38<00:32,  1.71it/s]"
     ]
    },
    {
     "name": "stdout",
     "output_type": "stream",
     "text": [
      "Epoch: 143 | disc_loss: -0.14917734265327454 | gen_loss: -0.060670312494039536\n"
     ]
    },
    {
     "name": "stderr",
     "output_type": "stream",
     "text": [
      " 72%|███████▎  | 145/200 [01:39<00:34,  1.62it/s]"
     ]
    },
    {
     "name": "stdout",
     "output_type": "stream",
     "text": [
      "Epoch: 144 | disc_loss: -0.14419884979724884 | gen_loss: -0.05189858004450798\n"
     ]
    },
    {
     "name": "stderr",
     "output_type": "stream",
     "text": [
      " 73%|███████▎  | 146/200 [01:39<00:34,  1.56it/s]"
     ]
    },
    {
     "name": "stdout",
     "output_type": "stream",
     "text": [
      "Epoch: 145 | disc_loss: -0.13783502578735352 | gen_loss: -0.07320751994848251\n"
     ]
    },
    {
     "name": "stderr",
     "output_type": "stream",
     "text": [
      " 74%|███████▎  | 147/200 [01:40<00:34,  1.52it/s]"
     ]
    },
    {
     "name": "stdout",
     "output_type": "stream",
     "text": [
      "Epoch: 146 | disc_loss: -0.1193334311246872 | gen_loss: -0.06267672777175903\n"
     ]
    },
    {
     "name": "stderr",
     "output_type": "stream",
     "text": [
      " 74%|███████▍  | 148/200 [01:41<00:35,  1.48it/s]"
     ]
    },
    {
     "name": "stdout",
     "output_type": "stream",
     "text": [
      "Epoch: 147 | disc_loss: -0.15201614797115326 | gen_loss: -0.07317528128623962\n"
     ]
    },
    {
     "name": "stderr",
     "output_type": "stream",
     "text": [
      " 74%|███████▍  | 149/200 [01:42<00:35,  1.45it/s]"
     ]
    },
    {
     "name": "stdout",
     "output_type": "stream",
     "text": [
      "Epoch: 148 | disc_loss: -0.15138359367847443 | gen_loss: -0.06779251247644424\n"
     ]
    },
    {
     "name": "stderr",
     "output_type": "stream",
     "text": [
      " 75%|███████▌  | 150/200 [01:42<00:34,  1.44it/s]"
     ]
    },
    {
     "name": "stdout",
     "output_type": "stream",
     "text": [
      "Epoch: 149 | disc_loss: -0.13832314312458038 | gen_loss: -0.07324328273534775\n"
     ]
    },
    {
     "name": "stderr",
     "output_type": "stream",
     "text": [
      " 76%|███████▌  | 151/200 [01:43<00:31,  1.54it/s]"
     ]
    },
    {
     "name": "stdout",
     "output_type": "stream",
     "text": [
      "Epoch: 150 | disc_loss: -0.1221141368150711 | gen_loss: -0.07794207334518433\n"
     ]
    },
    {
     "name": "stderr",
     "output_type": "stream",
     "text": [
      " 76%|███████▌  | 152/200 [01:43<00:30,  1.56it/s]"
     ]
    },
    {
     "name": "stdout",
     "output_type": "stream",
     "text": [
      "Epoch: 151 | disc_loss: -0.13762158155441284 | gen_loss: -0.07719585299491882\n"
     ]
    },
    {
     "name": "stderr",
     "output_type": "stream",
     "text": [
      " 76%|███████▋  | 153/200 [01:44<00:28,  1.65it/s]"
     ]
    },
    {
     "name": "stdout",
     "output_type": "stream",
     "text": [
      "Epoch: 152 | disc_loss: -0.15358342230319977 | gen_loss: -0.05228386074304581\n"
     ]
    },
    {
     "name": "stderr",
     "output_type": "stream",
     "text": [
      " 77%|███████▋  | 154/200 [01:45<00:27,  1.64it/s]"
     ]
    },
    {
     "name": "stdout",
     "output_type": "stream",
     "text": [
      "Epoch: 153 | disc_loss: -0.15293465554714203 | gen_loss: -0.06895620375871658\n"
     ]
    },
    {
     "name": "stderr",
     "output_type": "stream",
     "text": [
      " 78%|███████▊  | 155/200 [01:45<00:27,  1.64it/s]"
     ]
    },
    {
     "name": "stdout",
     "output_type": "stream",
     "text": [
      "Epoch: 154 | disc_loss: -0.1569284349679947 | gen_loss: -0.059003133326768875\n"
     ]
    },
    {
     "name": "stderr",
     "output_type": "stream",
     "text": [
      " 78%|███████▊  | 156/200 [01:46<00:26,  1.67it/s]"
     ]
    },
    {
     "name": "stdout",
     "output_type": "stream",
     "text": [
      "Epoch: 155 | disc_loss: -0.1542019248008728 | gen_loss: -0.07792022079229355\n"
     ]
    },
    {
     "name": "stderr",
     "output_type": "stream",
     "text": [
      " 78%|███████▊  | 157/200 [01:46<00:25,  1.66it/s]"
     ]
    },
    {
     "name": "stdout",
     "output_type": "stream",
     "text": [
      "Epoch: 156 | disc_loss: -0.1521637737751007 | gen_loss: -0.052463121712207794\n"
     ]
    },
    {
     "name": "stderr",
     "output_type": "stream",
     "text": [
      " 79%|███████▉  | 158/200 [01:47<00:25,  1.65it/s]"
     ]
    },
    {
     "name": "stdout",
     "output_type": "stream",
     "text": [
      "Epoch: 157 | disc_loss: -0.14224663376808167 | gen_loss: -0.05783725902438164\n"
     ]
    },
    {
     "name": "stderr",
     "output_type": "stream",
     "text": [
      " 80%|███████▉  | 159/200 [01:48<00:25,  1.58it/s]"
     ]
    },
    {
     "name": "stdout",
     "output_type": "stream",
     "text": [
      "Epoch: 158 | disc_loss: -0.12569721043109894 | gen_loss: -0.04968470707535744\n"
     ]
    },
    {
     "name": "stderr",
     "output_type": "stream",
     "text": [
      " 80%|████████  | 160/200 [01:48<00:26,  1.53it/s]"
     ]
    },
    {
     "name": "stdout",
     "output_type": "stream",
     "text": [
      "Epoch: 159 | disc_loss: -0.09334428608417511 | gen_loss: -0.0979127511382103\n"
     ]
    },
    {
     "name": "stderr",
     "output_type": "stream",
     "text": [
      " 80%|████████  | 161/200 [01:49<00:26,  1.49it/s]"
     ]
    },
    {
     "name": "stdout",
     "output_type": "stream",
     "text": [
      "Epoch: 160 | disc_loss: -0.14001794159412384 | gen_loss: -0.04215969517827034\n"
     ]
    },
    {
     "name": "stderr",
     "output_type": "stream",
     "text": [
      " 81%|████████  | 162/200 [01:50<00:25,  1.47it/s]"
     ]
    },
    {
     "name": "stdout",
     "output_type": "stream",
     "text": [
      "Epoch: 161 | disc_loss: -0.13410907983779907 | gen_loss: -0.053000565618276596\n"
     ]
    },
    {
     "name": "stderr",
     "output_type": "stream",
     "text": [
      " 82%|████████▏ | 163/200 [01:51<00:25,  1.45it/s]"
     ]
    },
    {
     "name": "stdout",
     "output_type": "stream",
     "text": [
      "Epoch: 162 | disc_loss: -0.14961956441402435 | gen_loss: -0.08174007385969162\n"
     ]
    },
    {
     "name": "stderr",
     "output_type": "stream",
     "text": [
      " 82%|████████▏ | 164/200 [01:51<00:25,  1.43it/s]"
     ]
    },
    {
     "name": "stdout",
     "output_type": "stream",
     "text": [
      "Epoch: 163 | disc_loss: -0.08735519647598267 | gen_loss: -0.058538611978292465\n"
     ]
    },
    {
     "name": "stderr",
     "output_type": "stream",
     "text": [
      " 82%|████████▎ | 165/200 [01:52<00:24,  1.43it/s]"
     ]
    },
    {
     "name": "stdout",
     "output_type": "stream",
     "text": [
      "Epoch: 164 | disc_loss: -0.16030387580394745 | gen_loss: -0.08572985976934433\n"
     ]
    },
    {
     "name": "stderr",
     "output_type": "stream",
     "text": [
      " 83%|████████▎ | 166/200 [01:53<00:23,  1.45it/s]"
     ]
    },
    {
     "name": "stdout",
     "output_type": "stream",
     "text": [
      "Epoch: 165 | disc_loss: -0.1395016312599182 | gen_loss: -0.08225757628679276\n"
     ]
    },
    {
     "name": "stderr",
     "output_type": "stream",
     "text": [
      " 84%|████████▎ | 167/200 [01:53<00:21,  1.52it/s]"
     ]
    },
    {
     "name": "stdout",
     "output_type": "stream",
     "text": [
      "Epoch: 166 | disc_loss: -0.13799484074115753 | gen_loss: -0.07159271836280823\n"
     ]
    },
    {
     "name": "stderr",
     "output_type": "stream",
     "text": [
      " 84%|████████▍ | 168/200 [01:54<00:20,  1.59it/s]"
     ]
    },
    {
     "name": "stdout",
     "output_type": "stream",
     "text": [
      "Epoch: 167 | disc_loss: -0.14834441244602203 | gen_loss: -0.09039095789194107\n"
     ]
    },
    {
     "name": "stderr",
     "output_type": "stream",
     "text": [
      " 84%|████████▍ | 169/200 [01:54<00:17,  1.72it/s]"
     ]
    },
    {
     "name": "stdout",
     "output_type": "stream",
     "text": [
      "Epoch: 168 | disc_loss: -0.15175940096378326 | gen_loss: -0.10615921765565872\n"
     ]
    },
    {
     "name": "stderr",
     "output_type": "stream",
     "text": [
      " 85%|████████▌ | 170/200 [01:55<00:17,  1.69it/s]"
     ]
    },
    {
     "name": "stdout",
     "output_type": "stream",
     "text": [
      "Epoch: 169 | disc_loss: -0.12088706344366074 | gen_loss: -0.06606784462928772\n"
     ]
    },
    {
     "name": "stderr",
     "output_type": "stream",
     "text": [
      " 86%|████████▌ | 171/200 [01:55<00:17,  1.67it/s]"
     ]
    },
    {
     "name": "stdout",
     "output_type": "stream",
     "text": [
      "Epoch: 170 | disc_loss: -0.14558207988739014 | gen_loss: -0.07088901847600937\n"
     ]
    },
    {
     "name": "stderr",
     "output_type": "stream",
     "text": [
      " 86%|████████▌ | 172/200 [01:56<00:16,  1.69it/s]"
     ]
    },
    {
     "name": "stdout",
     "output_type": "stream",
     "text": [
      "Epoch: 171 | disc_loss: -0.16768614947795868 | gen_loss: -0.08054910600185394\n"
     ]
    },
    {
     "name": "stderr",
     "output_type": "stream",
     "text": [
      " 86%|████████▋ | 173/200 [01:56<00:14,  1.80it/s]"
     ]
    },
    {
     "name": "stdout",
     "output_type": "stream",
     "text": [
      "Epoch: 172 | disc_loss: -0.1358821541070938 | gen_loss: -0.07866489887237549\n"
     ]
    },
    {
     "name": "stderr",
     "output_type": "stream",
     "text": [
      " 87%|████████▋ | 174/200 [01:57<00:13,  1.93it/s]"
     ]
    },
    {
     "name": "stdout",
     "output_type": "stream",
     "text": [
      "Epoch: 173 | disc_loss: -0.15028239786624908 | gen_loss: -0.08021070808172226\n"
     ]
    },
    {
     "name": "stderr",
     "output_type": "stream",
     "text": [
      " 88%|████████▊ | 175/200 [01:58<00:13,  1.85it/s]"
     ]
    },
    {
     "name": "stdout",
     "output_type": "stream",
     "text": [
      "Epoch: 174 | disc_loss: -0.135461688041687 | gen_loss: -0.08090914040803909\n"
     ]
    },
    {
     "name": "stderr",
     "output_type": "stream",
     "text": [
      " 88%|████████▊ | 176/200 [01:58<00:14,  1.71it/s]"
     ]
    },
    {
     "name": "stdout",
     "output_type": "stream",
     "text": [
      "Epoch: 175 | disc_loss: -0.12013574689626694 | gen_loss: -0.07027105987071991\n"
     ]
    },
    {
     "name": "stderr",
     "output_type": "stream",
     "text": [
      " 88%|████████▊ | 177/200 [01:59<00:11,  1.93it/s]"
     ]
    },
    {
     "name": "stdout",
     "output_type": "stream",
     "text": [
      "Epoch: 176 | disc_loss: -0.15572692453861237 | gen_loss: -0.05826662853360176\n"
     ]
    },
    {
     "name": "stderr",
     "output_type": "stream",
     "text": [
      " 89%|████████▉ | 178/200 [01:59<00:10,  2.00it/s]"
     ]
    },
    {
     "name": "stdout",
     "output_type": "stream",
     "text": [
      "Epoch: 177 | disc_loss: -0.1600363850593567 | gen_loss: -0.07067909836769104\n"
     ]
    },
    {
     "name": "stderr",
     "output_type": "stream",
     "text": [
      " 90%|████████▉ | 179/200 [02:00<00:11,  1.80it/s]"
     ]
    },
    {
     "name": "stdout",
     "output_type": "stream",
     "text": [
      "Epoch: 178 | disc_loss: -0.1503782570362091 | gen_loss: -0.0855187401175499\n"
     ]
    },
    {
     "name": "stderr",
     "output_type": "stream",
     "text": [
      " 90%|█████████ | 180/200 [02:00<00:12,  1.66it/s]"
     ]
    },
    {
     "name": "stdout",
     "output_type": "stream",
     "text": [
      "Epoch: 179 | disc_loss: -0.13575157523155212 | gen_loss: -0.05436643958091736\n"
     ]
    },
    {
     "name": "stderr",
     "output_type": "stream",
     "text": [
      " 90%|█████████ | 181/200 [02:01<00:11,  1.63it/s]"
     ]
    },
    {
     "name": "stdout",
     "output_type": "stream",
     "text": [
      "Epoch: 180 | disc_loss: -0.15344423055648804 | gen_loss: -0.05939062684774399\n"
     ]
    },
    {
     "name": "stderr",
     "output_type": "stream",
     "text": [
      " 91%|█████████ | 182/200 [02:02<00:11,  1.55it/s]"
     ]
    },
    {
     "name": "stdout",
     "output_type": "stream",
     "text": [
      "Epoch: 181 | disc_loss: -0.13649120926856995 | gen_loss: -0.10554184019565582\n"
     ]
    },
    {
     "name": "stderr",
     "output_type": "stream",
     "text": [
      " 92%|█████████▏| 183/200 [02:03<00:11,  1.50it/s]"
     ]
    },
    {
     "name": "stdout",
     "output_type": "stream",
     "text": [
      "Epoch: 182 | disc_loss: -0.10329408943653107 | gen_loss: -0.06109935790300369\n"
     ]
    },
    {
     "name": "stderr",
     "output_type": "stream",
     "text": [
      " 92%|█████████▏| 184/200 [02:03<00:10,  1.53it/s]"
     ]
    },
    {
     "name": "stdout",
     "output_type": "stream",
     "text": [
      "Epoch: 183 | disc_loss: -0.16832345724105835 | gen_loss: -0.06861865520477295\n"
     ]
    },
    {
     "name": "stderr",
     "output_type": "stream",
     "text": [
      " 92%|█████████▎| 185/200 [02:04<00:09,  1.57it/s]"
     ]
    },
    {
     "name": "stdout",
     "output_type": "stream",
     "text": [
      "Epoch: 184 | disc_loss: -0.13955143094062805 | gen_loss: -0.06396463513374329\n"
     ]
    },
    {
     "name": "stderr",
     "output_type": "stream",
     "text": [
      " 93%|█████████▎| 186/200 [02:04<00:08,  1.59it/s]"
     ]
    },
    {
     "name": "stdout",
     "output_type": "stream",
     "text": [
      "Epoch: 185 | disc_loss: -0.08656162023544312 | gen_loss: -0.0455651581287384\n"
     ]
    },
    {
     "name": "stderr",
     "output_type": "stream",
     "text": [
      " 94%|█████████▎| 187/200 [02:05<00:07,  1.64it/s]"
     ]
    },
    {
     "name": "stdout",
     "output_type": "stream",
     "text": [
      "Epoch: 186 | disc_loss: -0.1285208910703659 | gen_loss: -0.08507568389177322\n"
     ]
    },
    {
     "name": "stderr",
     "output_type": "stream",
     "text": [
      " 94%|█████████▍| 188/200 [02:06<00:07,  1.64it/s]"
     ]
    },
    {
     "name": "stdout",
     "output_type": "stream",
     "text": [
      "Epoch: 187 | disc_loss: -0.06720709800720215 | gen_loss: -0.04343270882964134\n"
     ]
    },
    {
     "name": "stderr",
     "output_type": "stream",
     "text": [
      " 94%|█████████▍| 189/200 [02:06<00:06,  1.65it/s]"
     ]
    },
    {
     "name": "stdout",
     "output_type": "stream",
     "text": [
      "Epoch: 188 | disc_loss: -0.12172480672597885 | gen_loss: -0.07224509119987488\n"
     ]
    },
    {
     "name": "stderr",
     "output_type": "stream",
     "text": [
      " 95%|█████████▌| 190/200 [02:07<00:05,  1.70it/s]"
     ]
    },
    {
     "name": "stdout",
     "output_type": "stream",
     "text": [
      "Epoch: 189 | disc_loss: -0.030128106474876404 | gen_loss: -0.05867569148540497\n"
     ]
    },
    {
     "name": "stderr",
     "output_type": "stream",
     "text": [
      " 96%|█████████▌| 191/200 [02:07<00:05,  1.66it/s]"
     ]
    },
    {
     "name": "stdout",
     "output_type": "stream",
     "text": [
      "Epoch: 190 | disc_loss: -0.12155884504318237 | gen_loss: -0.08520211279392242\n"
     ]
    },
    {
     "name": "stderr",
     "output_type": "stream",
     "text": [
      " 96%|█████████▌| 192/200 [02:08<00:04,  1.78it/s]"
     ]
    },
    {
     "name": "stdout",
     "output_type": "stream",
     "text": [
      "Epoch: 191 | disc_loss: -0.14164093136787415 | gen_loss: -0.06472110003232956\n"
     ]
    },
    {
     "name": "stderr",
     "output_type": "stream",
     "text": [
      " 96%|█████████▋| 193/200 [02:08<00:04,  1.70it/s]"
     ]
    },
    {
     "name": "stdout",
     "output_type": "stream",
     "text": [
      "Epoch: 192 | disc_loss: -0.09381242096424103 | gen_loss: -0.088422030210495\n"
     ]
    },
    {
     "name": "stderr",
     "output_type": "stream",
     "text": [
      " 97%|█████████▋| 194/200 [02:09<00:03,  1.62it/s]"
     ]
    },
    {
     "name": "stdout",
     "output_type": "stream",
     "text": [
      "Epoch: 193 | disc_loss: -0.11901481449604034 | gen_loss: -0.09566009789705276\n"
     ]
    },
    {
     "name": "stderr",
     "output_type": "stream",
     "text": [
      " 98%|█████████▊| 195/200 [02:10<00:03,  1.55it/s]"
     ]
    },
    {
     "name": "stdout",
     "output_type": "stream",
     "text": [
      "Epoch: 194 | disc_loss: -0.14705081284046173 | gen_loss: -0.09077457338571548\n"
     ]
    },
    {
     "name": "stderr",
     "output_type": "stream",
     "text": [
      " 98%|█████████▊| 196/200 [02:10<00:02,  1.52it/s]"
     ]
    },
    {
     "name": "stdout",
     "output_type": "stream",
     "text": [
      "Epoch: 195 | disc_loss: -0.12731324136257172 | gen_loss: -0.0790724828839302\n"
     ]
    },
    {
     "name": "stderr",
     "output_type": "stream",
     "text": [
      " 98%|█████████▊| 197/200 [02:11<00:02,  1.49it/s]"
     ]
    },
    {
     "name": "stdout",
     "output_type": "stream",
     "text": [
      "Epoch: 196 | disc_loss: -0.1769663393497467 | gen_loss: -0.1038999855518341\n"
     ]
    },
    {
     "name": "stderr",
     "output_type": "stream",
     "text": [
      " 99%|█████████▉| 198/200 [02:12<00:01,  1.48it/s]"
     ]
    },
    {
     "name": "stdout",
     "output_type": "stream",
     "text": [
      "Epoch: 197 | disc_loss: -0.15562154352664948 | gen_loss: -0.07263687252998352\n"
     ]
    },
    {
     "name": "stderr",
     "output_type": "stream",
     "text": [
      "100%|█████████▉| 199/200 [02:13<00:00,  1.45it/s]"
     ]
    },
    {
     "name": "stdout",
     "output_type": "stream",
     "text": [
      "Epoch: 198 | disc_loss: -0.13990679383277893 | gen_loss: -0.09193458408117294\n"
     ]
    },
    {
     "name": "stderr",
     "output_type": "stream",
     "text": [
      "100%|██████████| 200/200 [02:13<00:00,  1.50it/s]\n"
     ]
    },
    {
     "name": "stdout",
     "output_type": "stream",
     "text": [
      "Epoch: 199 | disc_loss: -0.10814452916383743 | gen_loss: -0.06703571230173111\n"
     ]
    },
    {
     "name": "stderr",
     "output_type": "stream",
     "text": [
      "Synthetic data generation: 100%|██████████| 47/47 [00:00<00:00, 244.35it/s]\n"
     ]
    }
   ],
   "source": [
    "# Generate synthetic samples\n",
    "augmented_train_data_wgan, synth_data_wgan = generate_synthetic_samples_wgangp(\n",
    "    train_data, minority_class, majority_class_count, minority_class_count,\n",
    "    gan_args, train_args, continuous_columns, discrete_columns, target_column, n_critic\n",
    ")"
   ]
  },
  {
   "cell_type": "code",
   "execution_count": 275,
   "metadata": {},
   "outputs": [
    {
     "name": "stdout",
     "output_type": "stream",
     "text": [
      "KS Test Average Score: 0.7361989686082401\n"
     ]
    }
   ],
   "source": [
    "# Perform KS Test\n",
    "ks_results_df, average_ks_score = ks_test(synth_data_wgan, minority_train_data, continuous_columns, target_column)\n",
    "print(\"KS Test Average Score:\", average_ks_score)"
   ]
  },
  {
   "cell_type": "code",
   "execution_count": 4,
   "metadata": {},
   "outputs": [
    {
     "name": "stdout",
     "output_type": "stream",
     "text": [
      "Chi-Square Test Average P-value: 0.5232303574631339\n"
     ]
    }
   ],
   "source": [
    "# Perform Chi-Square Test\n",
    "chi2_test_results_df, average_p_value = chi2_test(synth_data_wgan, minority_train_data, discrete_columns, target_column)\n",
    "print(\"Chi-Square Test Average P-value:\", average_p_value)"
   ]
  },
  {
   "cell_type": "code",
   "execution_count": 277,
   "metadata": {},
   "outputs": [],
   "source": [
    "X_train_augmented_wgan = augmented_train_data_wgan.drop('Churn', axis=1)  # Features (all columns except the target variable)\n",
    "y_train_augmented_wgan = augmented_train_data_wgan['Churn']  # Target variable\n",
    "\n",
    "# Encode categorical variables\n",
    "X_train_augmented_wgan, _ = encode_categorical(X_train_augmented_wgan)"
   ]
  },
  {
   "cell_type": "code",
   "execution_count": 278,
   "metadata": {},
   "outputs": [
    {
     "data": {
      "text/html": [
       "<style>#sk-container-id-20 {color: black;background-color: white;}#sk-container-id-20 pre{padding: 0;}#sk-container-id-20 div.sk-toggleable {background-color: white;}#sk-container-id-20 label.sk-toggleable__label {cursor: pointer;display: block;width: 100%;margin-bottom: 0;padding: 0.3em;box-sizing: border-box;text-align: center;}#sk-container-id-20 label.sk-toggleable__label-arrow:before {content: \"▸\";float: left;margin-right: 0.25em;color: #696969;}#sk-container-id-20 label.sk-toggleable__label-arrow:hover:before {color: black;}#sk-container-id-20 div.sk-estimator:hover label.sk-toggleable__label-arrow:before {color: black;}#sk-container-id-20 div.sk-toggleable__content {max-height: 0;max-width: 0;overflow: hidden;text-align: left;background-color: #f0f8ff;}#sk-container-id-20 div.sk-toggleable__content pre {margin: 0.2em;color: black;border-radius: 0.25em;background-color: #f0f8ff;}#sk-container-id-20 input.sk-toggleable__control:checked~div.sk-toggleable__content {max-height: 200px;max-width: 100%;overflow: auto;}#sk-container-id-20 input.sk-toggleable__control:checked~label.sk-toggleable__label-arrow:before {content: \"▾\";}#sk-container-id-20 div.sk-estimator input.sk-toggleable__control:checked~label.sk-toggleable__label {background-color: #d4ebff;}#sk-container-id-20 div.sk-label input.sk-toggleable__control:checked~label.sk-toggleable__label {background-color: #d4ebff;}#sk-container-id-20 input.sk-hidden--visually {border: 0;clip: rect(1px 1px 1px 1px);clip: rect(1px, 1px, 1px, 1px);height: 1px;margin: -1px;overflow: hidden;padding: 0;position: absolute;width: 1px;}#sk-container-id-20 div.sk-estimator {font-family: monospace;background-color: #f0f8ff;border: 1px dotted black;border-radius: 0.25em;box-sizing: border-box;margin-bottom: 0.5em;}#sk-container-id-20 div.sk-estimator:hover {background-color: #d4ebff;}#sk-container-id-20 div.sk-parallel-item::after {content: \"\";width: 100%;border-bottom: 1px solid gray;flex-grow: 1;}#sk-container-id-20 div.sk-label:hover label.sk-toggleable__label {background-color: #d4ebff;}#sk-container-id-20 div.sk-serial::before {content: \"\";position: absolute;border-left: 1px solid gray;box-sizing: border-box;top: 0;bottom: 0;left: 50%;z-index: 0;}#sk-container-id-20 div.sk-serial {display: flex;flex-direction: column;align-items: center;background-color: white;padding-right: 0.2em;padding-left: 0.2em;position: relative;}#sk-container-id-20 div.sk-item {position: relative;z-index: 1;}#sk-container-id-20 div.sk-parallel {display: flex;align-items: stretch;justify-content: center;background-color: white;position: relative;}#sk-container-id-20 div.sk-item::before, #sk-container-id-20 div.sk-parallel-item::before {content: \"\";position: absolute;border-left: 1px solid gray;box-sizing: border-box;top: 0;bottom: 0;left: 50%;z-index: -1;}#sk-container-id-20 div.sk-parallel-item {display: flex;flex-direction: column;z-index: 1;position: relative;background-color: white;}#sk-container-id-20 div.sk-parallel-item:first-child::after {align-self: flex-end;width: 50%;}#sk-container-id-20 div.sk-parallel-item:last-child::after {align-self: flex-start;width: 50%;}#sk-container-id-20 div.sk-parallel-item:only-child::after {width: 0;}#sk-container-id-20 div.sk-dashed-wrapped {border: 1px dashed gray;margin: 0 0.4em 0.5em 0.4em;box-sizing: border-box;padding-bottom: 0.4em;background-color: white;}#sk-container-id-20 div.sk-label label {font-family: monospace;font-weight: bold;display: inline-block;line-height: 1.2em;}#sk-container-id-20 div.sk-label-container {text-align: center;}#sk-container-id-20 div.sk-container {/* jupyter's `normalize.less` sets `[hidden] { display: none; }` but bootstrap.min.css set `[hidden] { display: none !important; }` so we also need the `!important` here to be able to override the default hidden behavior on the sphinx rendered scikit-learn.org. See: https://github.com/scikit-learn/scikit-learn/issues/21755 */display: inline-block !important;position: relative;}#sk-container-id-20 div.sk-text-repr-fallback {display: none;}</style><div id=\"sk-container-id-20\" class=\"sk-top-container\"><div class=\"sk-text-repr-fallback\"><pre>DecisionTreeClassifier(criterion=&#x27;entropy&#x27;, max_depth=7, max_features=&#x27;log2&#x27;,\n",
       "                       random_state=42)</pre><b>In a Jupyter environment, please rerun this cell to show the HTML representation or trust the notebook. <br />On GitHub, the HTML representation is unable to render, please try loading this page with nbviewer.org.</b></div><div class=\"sk-container\" hidden><div class=\"sk-item\"><div class=\"sk-estimator sk-toggleable\"><input class=\"sk-toggleable__control sk-hidden--visually\" id=\"sk-estimator-id-20\" type=\"checkbox\" checked><label for=\"sk-estimator-id-20\" class=\"sk-toggleable__label sk-toggleable__label-arrow\">DecisionTreeClassifier</label><div class=\"sk-toggleable__content\"><pre>DecisionTreeClassifier(criterion=&#x27;entropy&#x27;, max_depth=7, max_features=&#x27;log2&#x27;,\n",
       "                       random_state=42)</pre></div></div></div></div></div>"
      ],
      "text/plain": [
       "DecisionTreeClassifier(criterion='entropy', max_depth=7, max_features='log2',\n",
       "                       random_state=42)"
      ]
     },
     "execution_count": 278,
     "metadata": {},
     "output_type": "execute_result"
    }
   ],
   "source": [
    "tree_model_wgan = DecisionTreeClassifier(criterion = 'entropy', max_depth = 7, max_features = 'log2', random_state=42)\n",
    "tree_model_wgan.fit(X_train_augmented_wgan, y_train_augmented_wgan)"
   ]
  },
  {
   "cell_type": "code",
   "execution_count": 279,
   "metadata": {},
   "outputs": [
    {
     "data": {
      "text/html": [
       "<div>\n",
       "<style scoped>\n",
       "    .dataframe tbody tr th:only-of-type {\n",
       "        vertical-align: middle;\n",
       "    }\n",
       "\n",
       "    .dataframe tbody tr th {\n",
       "        vertical-align: top;\n",
       "    }\n",
       "\n",
       "    .dataframe thead th {\n",
       "        text-align: right;\n",
       "    }\n",
       "</style>\n",
       "<table border=\"1\" class=\"dataframe\">\n",
       "  <thead>\n",
       "    <tr style=\"text-align: right;\">\n",
       "      <th></th>\n",
       "      <th>Score</th>\n",
       "    </tr>\n",
       "  </thead>\n",
       "  <tbody>\n",
       "    <tr>\n",
       "      <th>Accuracy</th>\n",
       "      <td>0.749763</td>\n",
       "    </tr>\n",
       "    <tr>\n",
       "      <th>F1-score (macro)</th>\n",
       "      <td>0.699911</td>\n",
       "    </tr>\n",
       "    <tr>\n",
       "      <th>Recall (macro)</th>\n",
       "      <td>0.715872</td>\n",
       "    </tr>\n",
       "    <tr>\n",
       "      <th>Geometric Mean</th>\n",
       "      <td>0.712204</td>\n",
       "    </tr>\n",
       "    <tr>\n",
       "      <th>Cohen's Kappa</th>\n",
       "      <td>0.402459</td>\n",
       "    </tr>\n",
       "  </tbody>\n",
       "</table>\n",
       "</div>"
      ],
      "text/plain": [
       "                     Score\n",
       "Accuracy          0.749763\n",
       "F1-score (macro)  0.699911\n",
       "Recall (macro)    0.715872\n",
       "Geometric Mean    0.712204\n",
       "Cohen's Kappa     0.402459"
      ]
     },
     "execution_count": 279,
     "metadata": {},
     "output_type": "execute_result"
    }
   ],
   "source": [
    "# Make predictions on the testing data\n",
    "y_pred_wgan = tree_model_wgan.predict(X_test)\n",
    "\n",
    "# Calculate metrics\n",
    "metrics_df_wgan = calculate_metrics(y_test, y_pred_wgan)\n",
    "metrics_df_wgan"
   ]
  },
  {
   "cell_type": "code",
   "execution_count": 280,
   "metadata": {},
   "outputs": [
    {
     "data": {
      "image/png": "[encoded data removed]",
      "text/plain": [
       "<Figure size 400x300 with 1 Axes>"
      ]
     },
     "metadata": {},
     "output_type": "display_data"
    }
   ],
   "source": [
    "# Plot confusion matrix\n",
    "plot_confusion_matrix(y_test, y_pred_wgan)"
   ]
  },
  {
   "cell_type": "code",
   "execution_count": 281,
   "metadata": {},
   "outputs": [
    {
     "name": "stdout",
     "output_type": "stream",
     "text": [
      "Error rate per class:\n",
      "[0.21174952 0.35650624]\n",
      "\n",
      "F1 score per class:\n",
      "[0.82222222 0.5776    ]\n"
     ]
    }
   ],
   "source": [
    "# Error rate per class\n",
    "print('Error rate per class:')\n",
    "print(calculate_error_rate_per_class(y_test, y_pred_wgan))\n",
    "\n",
    "# Error rate per class\n",
    "print('\\nF1 score per class:')\n",
    "print(f1_score_per_class(y_test, y_pred_wgan))"
   ]
  },
  {
   "cell_type": "markdown",
   "metadata": {},
   "source": [
    "## Data Augmentation with SMOTE"
   ]
  },
  {
   "cell_type": "code",
   "execution_count": 282,
   "metadata": {},
   "outputs": [],
   "source": [
    "# Get the indexes of discrete_columns in smote_df, excluding the last index\n",
    "indexes = [df.columns.get_loc(col) for col in discrete_columns[:-1]]"
   ]
  },
  {
   "cell_type": "code",
   "execution_count": 283,
   "metadata": {},
   "outputs": [],
   "source": [
    "# Instantiate SMOTE\n",
    "smote = SMOTENC(categorical_features = indexes, random_state=2)\n",
    "\n",
    "# Apply SMOTE\n",
    "X_train_resampled, y_train_resampled = smote.fit_resample(X_train, y_train.ravel())\n"
   ]
  },
  {
   "cell_type": "code",
   "execution_count": 284,
   "metadata": {},
   "outputs": [
    {
     "name": "stdout",
     "output_type": "stream",
     "text": [
      "Before OverSampling, counts of label 'No': 3614\n",
      "Before OverSampling, counts of label 'Yes': 1308 \n",
      "\n",
      "After OverSampling, counts of label 'No': 3614\n",
      "After OverSampling, counts of label 'Yes': 3614\n"
     ]
    }
   ],
   "source": [
    "print(\"Before OverSampling, counts of label 'No': {}\".format(sum(y_train == 'No')))\n",
    "print(\"Before OverSampling, counts of label 'Yes': {} \\n\".format(sum(y_train == 'Yes')))\n",
    "\n",
    "print(\"After OverSampling, counts of label 'No': {}\".format(sum(y_train_resampled == 'No')))\n",
    "print(\"After OverSampling, counts of label 'Yes': {}\".format(sum(y_train_resampled == 'Yes')))"
   ]
  },
  {
   "cell_type": "code",
   "execution_count": 285,
   "metadata": {},
   "outputs": [],
   "source": [
    "# Combine X_train_resampled and y_train_resampled into a single dataframe\n",
    "smote_df = pd.DataFrame(X_train_resampled, columns=X_train.columns)\n",
    "smote_df['Churn'] = y_train_resampled\n",
    "\n",
    "# Filter out samples present in train_data\n",
    "filtered_smote_df = smote_df[~smote_df.index.isin(train_data.index)]\n",
    "\n",
    "# Reset the index of the resulting dataframe\n",
    "filtered_smote_df.reset_index(drop=True, inplace=True)\n"
   ]
  },
  {
   "cell_type": "code",
   "execution_count": 286,
   "metadata": {},
   "outputs": [
    {
     "data": {
      "text/plain": [
       "(2306, 20)"
      ]
     },
     "execution_count": 286,
     "metadata": {},
     "output_type": "execute_result"
    }
   ],
   "source": [
    "filtered_smote_df.shape"
   ]
  },
  {
   "cell_type": "code",
   "execution_count": 5,
   "metadata": {},
   "outputs": [
    {
     "name": "stdout",
     "output_type": "stream",
     "text": [
      "KS Test Average Score: 0.9794735923571271\n"
     ]
    }
   ],
   "source": [
    "# Perform KS Test\n",
    "ks_results_df, average_ks_score = ks_test(filtered_smote_df, minority_train_data, continuous_columns, target_column)\n",
    "print(\"KS Test Average Score:\", average_ks_score)"
   ]
  },
  {
   "cell_type": "code",
   "execution_count": 6,
   "metadata": {},
   "outputs": [
    {
     "name": "stdout",
     "output_type": "stream",
     "text": [
      "Chi-Square Test Average P-value: 0.5963633262474193\n"
     ]
    }
   ],
   "source": [
    "# Perform Chi-Square Test\n",
    "chi2_test_results_df, average_p_value = chi2_test(filtered_smote_df, minority_train_data, discrete_columns, target_column)\n",
    "print(\"Chi-Square Test Average P-value:\", average_p_value)"
   ]
  },
  {
   "cell_type": "code",
   "execution_count": 289,
   "metadata": {},
   "outputs": [],
   "source": [
    "# Encode categorical variables\n",
    "X_train_resampled, _ = encode_categorical(X_train_resampled)"
   ]
  },
  {
   "cell_type": "code",
   "execution_count": 290,
   "metadata": {},
   "outputs": [
    {
     "data": {
      "text/html": [
       "<style>#sk-container-id-21 {color: black;background-color: white;}#sk-container-id-21 pre{padding: 0;}#sk-container-id-21 div.sk-toggleable {background-color: white;}#sk-container-id-21 label.sk-toggleable__label {cursor: pointer;display: block;width: 100%;margin-bottom: 0;padding: 0.3em;box-sizing: border-box;text-align: center;}#sk-container-id-21 label.sk-toggleable__label-arrow:before {content: \"▸\";float: left;margin-right: 0.25em;color: #696969;}#sk-container-id-21 label.sk-toggleable__label-arrow:hover:before {color: black;}#sk-container-id-21 div.sk-estimator:hover label.sk-toggleable__label-arrow:before {color: black;}#sk-container-id-21 div.sk-toggleable__content {max-height: 0;max-width: 0;overflow: hidden;text-align: left;background-color: #f0f8ff;}#sk-container-id-21 div.sk-toggleable__content pre {margin: 0.2em;color: black;border-radius: 0.25em;background-color: #f0f8ff;}#sk-container-id-21 input.sk-toggleable__control:checked~div.sk-toggleable__content {max-height: 200px;max-width: 100%;overflow: auto;}#sk-container-id-21 input.sk-toggleable__control:checked~label.sk-toggleable__label-arrow:before {content: \"▾\";}#sk-container-id-21 div.sk-estimator input.sk-toggleable__control:checked~label.sk-toggleable__label {background-color: #d4ebff;}#sk-container-id-21 div.sk-label input.sk-toggleable__control:checked~label.sk-toggleable__label {background-color: #d4ebff;}#sk-container-id-21 input.sk-hidden--visually {border: 0;clip: rect(1px 1px 1px 1px);clip: rect(1px, 1px, 1px, 1px);height: 1px;margin: -1px;overflow: hidden;padding: 0;position: absolute;width: 1px;}#sk-container-id-21 div.sk-estimator {font-family: monospace;background-color: #f0f8ff;border: 1px dotted black;border-radius: 0.25em;box-sizing: border-box;margin-bottom: 0.5em;}#sk-container-id-21 div.sk-estimator:hover {background-color: #d4ebff;}#sk-container-id-21 div.sk-parallel-item::after {content: \"\";width: 100%;border-bottom: 1px solid gray;flex-grow: 1;}#sk-container-id-21 div.sk-label:hover label.sk-toggleable__label {background-color: #d4ebff;}#sk-container-id-21 div.sk-serial::before {content: \"\";position: absolute;border-left: 1px solid gray;box-sizing: border-box;top: 0;bottom: 0;left: 50%;z-index: 0;}#sk-container-id-21 div.sk-serial {display: flex;flex-direction: column;align-items: center;background-color: white;padding-right: 0.2em;padding-left: 0.2em;position: relative;}#sk-container-id-21 div.sk-item {position: relative;z-index: 1;}#sk-container-id-21 div.sk-parallel {display: flex;align-items: stretch;justify-content: center;background-color: white;position: relative;}#sk-container-id-21 div.sk-item::before, #sk-container-id-21 div.sk-parallel-item::before {content: \"\";position: absolute;border-left: 1px solid gray;box-sizing: border-box;top: 0;bottom: 0;left: 50%;z-index: -1;}#sk-container-id-21 div.sk-parallel-item {display: flex;flex-direction: column;z-index: 1;position: relative;background-color: white;}#sk-container-id-21 div.sk-parallel-item:first-child::after {align-self: flex-end;width: 50%;}#sk-container-id-21 div.sk-parallel-item:last-child::after {align-self: flex-start;width: 50%;}#sk-container-id-21 div.sk-parallel-item:only-child::after {width: 0;}#sk-container-id-21 div.sk-dashed-wrapped {border: 1px dashed gray;margin: 0 0.4em 0.5em 0.4em;box-sizing: border-box;padding-bottom: 0.4em;background-color: white;}#sk-container-id-21 div.sk-label label {font-family: monospace;font-weight: bold;display: inline-block;line-height: 1.2em;}#sk-container-id-21 div.sk-label-container {text-align: center;}#sk-container-id-21 div.sk-container {/* jupyter's `normalize.less` sets `[hidden] { display: none; }` but bootstrap.min.css set `[hidden] { display: none !important; }` so we also need the `!important` here to be able to override the default hidden behavior on the sphinx rendered scikit-learn.org. See: https://github.com/scikit-learn/scikit-learn/issues/21755 */display: inline-block !important;position: relative;}#sk-container-id-21 div.sk-text-repr-fallback {display: none;}</style><div id=\"sk-container-id-21\" class=\"sk-top-container\"><div class=\"sk-text-repr-fallback\"><pre>DecisionTreeClassifier(criterion=&#x27;entropy&#x27;, max_depth=7, max_features=&#x27;log2&#x27;,\n",
       "                       random_state=42)</pre><b>In a Jupyter environment, please rerun this cell to show the HTML representation or trust the notebook. <br />On GitHub, the HTML representation is unable to render, please try loading this page with nbviewer.org.</b></div><div class=\"sk-container\" hidden><div class=\"sk-item\"><div class=\"sk-estimator sk-toggleable\"><input class=\"sk-toggleable__control sk-hidden--visually\" id=\"sk-estimator-id-21\" type=\"checkbox\" checked><label for=\"sk-estimator-id-21\" class=\"sk-toggleable__label sk-toggleable__label-arrow\">DecisionTreeClassifier</label><div class=\"sk-toggleable__content\"><pre>DecisionTreeClassifier(criterion=&#x27;entropy&#x27;, max_depth=7, max_features=&#x27;log2&#x27;,\n",
       "                       random_state=42)</pre></div></div></div></div></div>"
      ],
      "text/plain": [
       "DecisionTreeClassifier(criterion='entropy', max_depth=7, max_features='log2',\n",
       "                       random_state=42)"
      ]
     },
     "execution_count": 290,
     "metadata": {},
     "output_type": "execute_result"
    }
   ],
   "source": [
    "tree_model_smote = DecisionTreeClassifier(criterion = 'entropy', max_depth = 7, max_features = 'log2', random_state=42)\n",
    "tree_model_smote.fit(X_train_resampled, y_train_resampled)"
   ]
  },
  {
   "cell_type": "code",
   "execution_count": 291,
   "metadata": {},
   "outputs": [
    {
     "data": {
      "text/html": [
       "<div>\n",
       "<style scoped>\n",
       "    .dataframe tbody tr th:only-of-type {\n",
       "        vertical-align: middle;\n",
       "    }\n",
       "\n",
       "    .dataframe tbody tr th {\n",
       "        vertical-align: top;\n",
       "    }\n",
       "\n",
       "    .dataframe thead th {\n",
       "        text-align: right;\n",
       "    }\n",
       "</style>\n",
       "<table border=\"1\" class=\"dataframe\">\n",
       "  <thead>\n",
       "    <tr style=\"text-align: right;\">\n",
       "      <th></th>\n",
       "      <th>Score</th>\n",
       "    </tr>\n",
       "  </thead>\n",
       "  <tbody>\n",
       "    <tr>\n",
       "      <th>Accuracy</th>\n",
       "      <td>0.735545</td>\n",
       "    </tr>\n",
       "    <tr>\n",
       "      <th>F1-score (macro)</th>\n",
       "      <td>0.698227</td>\n",
       "    </tr>\n",
       "    <tr>\n",
       "      <th>Recall (macro)</th>\n",
       "      <td>0.731201</td>\n",
       "    </tr>\n",
       "    <tr>\n",
       "      <th>Geometric Mean</th>\n",
       "      <td>0.731143</td>\n",
       "    </tr>\n",
       "    <tr>\n",
       "      <th>Cohen's Kappa</th>\n",
       "      <td>0.405672</td>\n",
       "    </tr>\n",
       "  </tbody>\n",
       "</table>\n",
       "</div>"
      ],
      "text/plain": [
       "                     Score\n",
       "Accuracy          0.735545\n",
       "F1-score (macro)  0.698227\n",
       "Recall (macro)    0.731201\n",
       "Geometric Mean    0.731143\n",
       "Cohen's Kappa     0.405672"
      ]
     },
     "execution_count": 291,
     "metadata": {},
     "output_type": "execute_result"
    }
   ],
   "source": [
    "# Make predictions on the testing data\n",
    "y_pred_smote = tree_model_smote.predict(X_test)\n",
    "\n",
    "# Calculate metrics\n",
    "metrics_df_smote = calculate_metrics(y_test, y_pred_smote)\n",
    "metrics_df_smote"
   ]
  },
  {
   "cell_type": "code",
   "execution_count": 292,
   "metadata": {},
   "outputs": [
    {
     "data": {
      "image/png": "[encoded data removed]",
      "text/plain": [
       "<Figure size 400x300 with 1 Axes>"
      ]
     },
     "metadata": {},
     "output_type": "display_data"
    }
   ],
   "source": [
    "# Plot confusion matrix\n",
    "plot_confusion_matrix(y_test, y_pred_smote)"
   ]
  },
  {
   "cell_type": "code",
   "execution_count": 293,
   "metadata": {},
   "outputs": [
    {
     "name": "stdout",
     "output_type": "stream",
     "text": [
      "Error rate per class:\n",
      "[0.25952227 0.27807487]\n",
      "\n",
      "F1 score per class:\n",
      "[0.80434783 0.59210526]\n"
     ]
    }
   ],
   "source": [
    "# Error rate per class\n",
    "print('Error rate per class:')\n",
    "print(calculate_error_rate_per_class(y_test, y_pred_smote))\n",
    "\n",
    "# Error rate per class\n",
    "print('\\nF1 score per class:')\n",
    "print(f1_score_per_class(y_test, y_pred_smote))"
   ]
  },
  {
   "cell_type": "markdown",
   "metadata": {},
   "source": [
    "## Combining CTGAN and WGAN-GP results"
   ]
  },
  {
   "cell_type": "code",
   "execution_count": 294,
   "metadata": {},
   "outputs": [],
   "source": [
    "# Sample 50% of the rows from each DataFrame\n",
    "sampled_df_ctgan = synth_data_ctgan.sample(frac=0.5, random_state=42)\n",
    "sampled_df_wgan = synth_data_wgan.sample(frac=0.5, random_state=42)\n",
    "\n",
    "# Combine the sampled DataFrames\n",
    "combined_df = pd.concat([sampled_df_ctgan, sampled_df_wgan], ignore_index=True)"
   ]
  },
  {
   "cell_type": "code",
   "execution_count": 295,
   "metadata": {},
   "outputs": [],
   "source": [
    "train_data_combined = pd.concat([train_data, combined_df], ignore_index=True)\n",
    "\n",
    "X_train_combined = train_data_combined.drop('Churn', axis=1)  # Features (all columns except the target variable)\n",
    "y_train_combined = train_data_combined['Churn']  # Target variable"
   ]
  },
  {
   "cell_type": "code",
   "execution_count": 7,
   "metadata": {},
   "outputs": [
    {
     "name": "stdout",
     "output_type": "stream",
     "text": [
      "KS Test Average Score: 0.8841752490732415\n"
     ]
    }
   ],
   "source": [
    "# Perform KS Test\n",
    "ks_results_df, average_ks_score = ks_test(combined_df, minority_train_data, continuous_columns, target_column)\n",
    "print(\"KS Test Average Score:\", average_ks_score)"
   ]
  },
  {
   "cell_type": "code",
   "execution_count": 8,
   "metadata": {},
   "outputs": [
    {
     "name": "stdout",
     "output_type": "stream",
     "text": [
      "Chi-Square Test Average P-value: 0.6100798711628519\n"
     ]
    }
   ],
   "source": [
    "# Perform Chi-Square Test\n",
    "chi2_test_results_df, average_p_value = chi2_test(combined_df, minority_train_data, discrete_columns, target_column)\n",
    "print(\"Chi-Square Test Average P-value:\", average_p_value)"
   ]
  },
  {
   "cell_type": "code",
   "execution_count": 298,
   "metadata": {},
   "outputs": [],
   "source": [
    "# Encode categorical variables\n",
    "X_train_combined, _ = encode_categorical(X_train_combined)"
   ]
  },
  {
   "cell_type": "code",
   "execution_count": 299,
   "metadata": {},
   "outputs": [
    {
     "data": {
      "text/html": [
       "<style>#sk-container-id-22 {color: black;background-color: white;}#sk-container-id-22 pre{padding: 0;}#sk-container-id-22 div.sk-toggleable {background-color: white;}#sk-container-id-22 label.sk-toggleable__label {cursor: pointer;display: block;width: 100%;margin-bottom: 0;padding: 0.3em;box-sizing: border-box;text-align: center;}#sk-container-id-22 label.sk-toggleable__label-arrow:before {content: \"▸\";float: left;margin-right: 0.25em;color: #696969;}#sk-container-id-22 label.sk-toggleable__label-arrow:hover:before {color: black;}#sk-container-id-22 div.sk-estimator:hover label.sk-toggleable__label-arrow:before {color: black;}#sk-container-id-22 div.sk-toggleable__content {max-height: 0;max-width: 0;overflow: hidden;text-align: left;background-color: #f0f8ff;}#sk-container-id-22 div.sk-toggleable__content pre {margin: 0.2em;color: black;border-radius: 0.25em;background-color: #f0f8ff;}#sk-container-id-22 input.sk-toggleable__control:checked~div.sk-toggleable__content {max-height: 200px;max-width: 100%;overflow: auto;}#sk-container-id-22 input.sk-toggleable__control:checked~label.sk-toggleable__label-arrow:before {content: \"▾\";}#sk-container-id-22 div.sk-estimator input.sk-toggleable__control:checked~label.sk-toggleable__label {background-color: #d4ebff;}#sk-container-id-22 div.sk-label input.sk-toggleable__control:checked~label.sk-toggleable__label {background-color: #d4ebff;}#sk-container-id-22 input.sk-hidden--visually {border: 0;clip: rect(1px 1px 1px 1px);clip: rect(1px, 1px, 1px, 1px);height: 1px;margin: -1px;overflow: hidden;padding: 0;position: absolute;width: 1px;}#sk-container-id-22 div.sk-estimator {font-family: monospace;background-color: #f0f8ff;border: 1px dotted black;border-radius: 0.25em;box-sizing: border-box;margin-bottom: 0.5em;}#sk-container-id-22 div.sk-estimator:hover {background-color: #d4ebff;}#sk-container-id-22 div.sk-parallel-item::after {content: \"\";width: 100%;border-bottom: 1px solid gray;flex-grow: 1;}#sk-container-id-22 div.sk-label:hover label.sk-toggleable__label {background-color: #d4ebff;}#sk-container-id-22 div.sk-serial::before {content: \"\";position: absolute;border-left: 1px solid gray;box-sizing: border-box;top: 0;bottom: 0;left: 50%;z-index: 0;}#sk-container-id-22 div.sk-serial {display: flex;flex-direction: column;align-items: center;background-color: white;padding-right: 0.2em;padding-left: 0.2em;position: relative;}#sk-container-id-22 div.sk-item {position: relative;z-index: 1;}#sk-container-id-22 div.sk-parallel {display: flex;align-items: stretch;justify-content: center;background-color: white;position: relative;}#sk-container-id-22 div.sk-item::before, #sk-container-id-22 div.sk-parallel-item::before {content: \"\";position: absolute;border-left: 1px solid gray;box-sizing: border-box;top: 0;bottom: 0;left: 50%;z-index: -1;}#sk-container-id-22 div.sk-parallel-item {display: flex;flex-direction: column;z-index: 1;position: relative;background-color: white;}#sk-container-id-22 div.sk-parallel-item:first-child::after {align-self: flex-end;width: 50%;}#sk-container-id-22 div.sk-parallel-item:last-child::after {align-self: flex-start;width: 50%;}#sk-container-id-22 div.sk-parallel-item:only-child::after {width: 0;}#sk-container-id-22 div.sk-dashed-wrapped {border: 1px dashed gray;margin: 0 0.4em 0.5em 0.4em;box-sizing: border-box;padding-bottom: 0.4em;background-color: white;}#sk-container-id-22 div.sk-label label {font-family: monospace;font-weight: bold;display: inline-block;line-height: 1.2em;}#sk-container-id-22 div.sk-label-container {text-align: center;}#sk-container-id-22 div.sk-container {/* jupyter's `normalize.less` sets `[hidden] { display: none; }` but bootstrap.min.css set `[hidden] { display: none !important; }` so we also need the `!important` here to be able to override the default hidden behavior on the sphinx rendered scikit-learn.org. See: https://github.com/scikit-learn/scikit-learn/issues/21755 */display: inline-block !important;position: relative;}#sk-container-id-22 div.sk-text-repr-fallback {display: none;}</style><div id=\"sk-container-id-22\" class=\"sk-top-container\"><div class=\"sk-text-repr-fallback\"><pre>DecisionTreeClassifier(criterion=&#x27;entropy&#x27;, max_depth=7, max_features=&#x27;log2&#x27;,\n",
       "                       random_state=42)</pre><b>In a Jupyter environment, please rerun this cell to show the HTML representation or trust the notebook. <br />On GitHub, the HTML representation is unable to render, please try loading this page with nbviewer.org.</b></div><div class=\"sk-container\" hidden><div class=\"sk-item\"><div class=\"sk-estimator sk-toggleable\"><input class=\"sk-toggleable__control sk-hidden--visually\" id=\"sk-estimator-id-22\" type=\"checkbox\" checked><label for=\"sk-estimator-id-22\" class=\"sk-toggleable__label sk-toggleable__label-arrow\">DecisionTreeClassifier</label><div class=\"sk-toggleable__content\"><pre>DecisionTreeClassifier(criterion=&#x27;entropy&#x27;, max_depth=7, max_features=&#x27;log2&#x27;,\n",
       "                       random_state=42)</pre></div></div></div></div></div>"
      ],
      "text/plain": [
       "DecisionTreeClassifier(criterion='entropy', max_depth=7, max_features='log2',\n",
       "                       random_state=42)"
      ]
     },
     "execution_count": 299,
     "metadata": {},
     "output_type": "execute_result"
    }
   ],
   "source": [
    "tree_model_combined = DecisionTreeClassifier(criterion = 'entropy', max_depth = 7, max_features = 'log2', random_state=42)\n",
    "tree_model_combined.fit(X_train_combined, y_train_combined)"
   ]
  },
  {
   "cell_type": "code",
   "execution_count": 300,
   "metadata": {},
   "outputs": [
    {
     "data": {
      "text/html": [
       "<div>\n",
       "<style scoped>\n",
       "    .dataframe tbody tr th:only-of-type {\n",
       "        vertical-align: middle;\n",
       "    }\n",
       "\n",
       "    .dataframe tbody tr th {\n",
       "        vertical-align: top;\n",
       "    }\n",
       "\n",
       "    .dataframe thead th {\n",
       "        text-align: right;\n",
       "    }\n",
       "</style>\n",
       "<table border=\"1\" class=\"dataframe\">\n",
       "  <thead>\n",
       "    <tr style=\"text-align: right;\">\n",
       "      <th></th>\n",
       "      <th>Score</th>\n",
       "    </tr>\n",
       "  </thead>\n",
       "  <tbody>\n",
       "    <tr>\n",
       "      <th>Accuracy</th>\n",
       "      <td>0.733175</td>\n",
       "    </tr>\n",
       "    <tr>\n",
       "      <th>F1-score (macro)</th>\n",
       "      <td>0.691813</td>\n",
       "    </tr>\n",
       "    <tr>\n",
       "      <th>Recall (macro)</th>\n",
       "      <td>0.719355</td>\n",
       "    </tr>\n",
       "    <tr>\n",
       "      <th>Geometric Mean</th>\n",
       "      <td>0.718749</td>\n",
       "    </tr>\n",
       "    <tr>\n",
       "      <th>Cohen's Kappa</th>\n",
       "      <td>0.390929</td>\n",
       "    </tr>\n",
       "  </tbody>\n",
       "</table>\n",
       "</div>"
      ],
      "text/plain": [
       "                     Score\n",
       "Accuracy          0.733175\n",
       "F1-score (macro)  0.691813\n",
       "Recall (macro)    0.719355\n",
       "Geometric Mean    0.718749\n",
       "Cohen's Kappa     0.390929"
      ]
     },
     "execution_count": 300,
     "metadata": {},
     "output_type": "execute_result"
    }
   ],
   "source": [
    "# Make predictions on the testing data\n",
    "y_pred_combined = tree_model_combined.predict(X_test)\n",
    "\n",
    "# Calculate metrics\n",
    "metrics_df_combined = calculate_metrics(y_test, y_pred_combined)\n",
    "metrics_df_combined"
   ]
  },
  {
   "cell_type": "code",
   "execution_count": 301,
   "metadata": {},
   "outputs": [
    {
     "data": {
      "image/png": "[encoded data removed]",
      "text/plain": [
       "<Figure size 400x300 with 1 Axes>"
      ]
     },
     "metadata": {},
     "output_type": "display_data"
    }
   ],
   "source": [
    "# Plot confusion matrix\n",
    "plot_confusion_matrix(y_test, y_pred_combined)"
   ]
  },
  {
   "cell_type": "code",
   "execution_count": 302,
   "metadata": {},
   "outputs": [
    {
     "name": "stdout",
     "output_type": "stream",
     "text": [
      "Error rate per class:\n",
      "[0.25112976 0.31016043]\n",
      "\n",
      "F1 score per class:\n",
      "[0.80471731 0.578908  ]\n"
     ]
    }
   ],
   "source": [
    "# Error rate per class\n",
    "print('Error rate per class:')\n",
    "print(calculate_error_rate_per_class(y_test, y_pred_combined))\n",
    "\n",
    "# Error rate per class\n",
    "print('\\nF1 score per class:')\n",
    "print(f1_score_per_class(y_test, y_pred_combined))"
   ]
  },
  {
   "cell_type": "markdown",
   "metadata": {},
   "source": [
    "## Filtering CTGAN + WGAN-GP results"
   ]
  },
  {
   "cell_type": "code",
   "execution_count": 303,
   "metadata": {},
   "outputs": [],
   "source": [
    "# Combine the sampled DataFrames\n",
    "combined_synth_df = pd.concat([synth_data_ctgan, synth_data_wgan], ignore_index=True)"
   ]
  },
  {
   "cell_type": "code",
   "execution_count": 304,
   "metadata": {},
   "outputs": [
    {
     "data": {
      "text/plain": [
       "(4612, 20)"
      ]
     },
     "execution_count": 304,
     "metadata": {},
     "output_type": "execute_result"
    }
   ],
   "source": [
    "combined_synth_df.shape"
   ]
  },
  {
   "cell_type": "code",
   "execution_count": 305,
   "metadata": {},
   "outputs": [
    {
     "name": "stdout",
     "output_type": "stream",
     "text": [
      "['Yes']\n"
     ]
    }
   ],
   "source": [
    "unique_diagnosis_values = combined_synth_df['Churn'].unique()\n",
    "print(unique_diagnosis_values)"
   ]
  },
  {
   "cell_type": "code",
   "execution_count": 306,
   "metadata": {},
   "outputs": [],
   "source": [
    "X_combined_synth = combined_synth_df.drop('Churn', axis=1)  # Features (all columns except the target variable)\n",
    "y_combined_synth = combined_synth_df['Churn']  # Target variable\n",
    "\n",
    "\n",
    "# Encode categorical variables\n",
    "X_combined_synth, _ = encode_categorical(X_combined_synth)\n",
    "\n",
    "\n",
    "# Combine features and target variable into a single DataFrame\n",
    "combined_synth_df = pd.concat([X_combined_synth, y_combined_synth], axis=1)\n",
    "#Shuffle\n",
    "combined_synth_df = combined_synth_df.sample(frac=1, random_state=42).reset_index(drop=True)\n",
    "\n",
    "train_df = pd.concat([X_train, y_train], axis=1)"
   ]
  },
  {
   "cell_type": "code",
   "execution_count": 307,
   "metadata": {},
   "outputs": [
    {
     "name": "stdout",
     "output_type": "stream",
     "text": [
      "(4612, 20)\n"
     ]
    }
   ],
   "source": [
    "print(combined_synth_df.shape)"
   ]
  },
  {
   "cell_type": "code",
   "execution_count": null,
   "metadata": {},
   "outputs": [],
   "source": [
    "# Define model parameters\n",
    "model_params = {\n",
    "    'criterion': 'entropy',\n",
    "    'max_depth': 7,\n",
    "    'max_features': 'log2',\n",
    "    'random_state': 42\n",
    "}\n",
    "\n",
    "# Use the filter_noisy_samples function\n",
    "filtered_df = filter_noisy_samples(generated_data=combined_synth_df,\n",
    "                                        real_training_data=train_df,\n",
    "                                        X_test=X_test,\n",
    "                                        y_test=y_test,\n",
    "                                        target_column='Churn',\n",
    "                                        model_params=model_params,\n",
    "                                        error_rate_threshold = 0.25) \n"
   ]
  },
  {
   "cell_type": "code",
   "execution_count": 10,
   "metadata": {},
   "outputs": [
    {
     "name": "stdout",
     "output_type": "stream",
     "text": [
      "KS Test Average Score: 0.86104253755847\n"
     ]
    }
   ],
   "source": [
    "# Perform KS Test\n",
    "ks_results_df, average_ks_score = ks_test(filtered_df, minority_train_data, continuous_columns, target_column)\n",
    "print(\"KS Test Average Score:\", average_ks_score)"
   ]
  },
  {
   "cell_type": "code",
   "execution_count": 11,
   "metadata": {},
   "outputs": [
    {
     "name": "stdout",
     "output_type": "stream",
     "text": [
      "Chi-Square Test Average P-value: 0.6002680654805919\n"
     ]
    }
   ],
   "source": [
    "# Perform Chi-Square Test\n",
    "chi2_test_results_df, average_p_value = chi2_test(filtered_df, minority_train_data, discrete_columns, target_column)\n",
    "print(\"Chi-Square Test Average P-value:\", average_p_value)"
   ]
  },
  {
   "cell_type": "code",
   "execution_count": 311,
   "metadata": {},
   "outputs": [
    {
     "data": {
      "text/plain": [
       "(1099, 20)"
      ]
     },
     "execution_count": 311,
     "metadata": {},
     "output_type": "execute_result"
    }
   ],
   "source": [
    "filtered_df.shape"
   ]
  },
  {
   "cell_type": "code",
   "execution_count": 312,
   "metadata": {},
   "outputs": [],
   "source": [
    "filtered_augmented_data = pd.concat([train_df, filtered_df], ignore_index=True)"
   ]
  },
  {
   "cell_type": "code",
   "execution_count": 313,
   "metadata": {},
   "outputs": [],
   "source": [
    "X_train_filtered = filtered_augmented_data.drop('Churn', axis=1)  # Features (all columns except the target variable)\n",
    "y_train_filtered = filtered_augmented_data['Churn']  # Target variable"
   ]
  },
  {
   "cell_type": "code",
   "execution_count": 314,
   "metadata": {},
   "outputs": [
    {
     "data": {
      "text/html": [
       "<style>#sk-container-id-23 {color: black;background-color: white;}#sk-container-id-23 pre{padding: 0;}#sk-container-id-23 div.sk-toggleable {background-color: white;}#sk-container-id-23 label.sk-toggleable__label {cursor: pointer;display: block;width: 100%;margin-bottom: 0;padding: 0.3em;box-sizing: border-box;text-align: center;}#sk-container-id-23 label.sk-toggleable__label-arrow:before {content: \"▸\";float: left;margin-right: 0.25em;color: #696969;}#sk-container-id-23 label.sk-toggleable__label-arrow:hover:before {color: black;}#sk-container-id-23 div.sk-estimator:hover label.sk-toggleable__label-arrow:before {color: black;}#sk-container-id-23 div.sk-toggleable__content {max-height: 0;max-width: 0;overflow: hidden;text-align: left;background-color: #f0f8ff;}#sk-container-id-23 div.sk-toggleable__content pre {margin: 0.2em;color: black;border-radius: 0.25em;background-color: #f0f8ff;}#sk-container-id-23 input.sk-toggleable__control:checked~div.sk-toggleable__content {max-height: 200px;max-width: 100%;overflow: auto;}#sk-container-id-23 input.sk-toggleable__control:checked~label.sk-toggleable__label-arrow:before {content: \"▾\";}#sk-container-id-23 div.sk-estimator input.sk-toggleable__control:checked~label.sk-toggleable__label {background-color: #d4ebff;}#sk-container-id-23 div.sk-label input.sk-toggleable__control:checked~label.sk-toggleable__label {background-color: #d4ebff;}#sk-container-id-23 input.sk-hidden--visually {border: 0;clip: rect(1px 1px 1px 1px);clip: rect(1px, 1px, 1px, 1px);height: 1px;margin: -1px;overflow: hidden;padding: 0;position: absolute;width: 1px;}#sk-container-id-23 div.sk-estimator {font-family: monospace;background-color: #f0f8ff;border: 1px dotted black;border-radius: 0.25em;box-sizing: border-box;margin-bottom: 0.5em;}#sk-container-id-23 div.sk-estimator:hover {background-color: #d4ebff;}#sk-container-id-23 div.sk-parallel-item::after {content: \"\";width: 100%;border-bottom: 1px solid gray;flex-grow: 1;}#sk-container-id-23 div.sk-label:hover label.sk-toggleable__label {background-color: #d4ebff;}#sk-container-id-23 div.sk-serial::before {content: \"\";position: absolute;border-left: 1px solid gray;box-sizing: border-box;top: 0;bottom: 0;left: 50%;z-index: 0;}#sk-container-id-23 div.sk-serial {display: flex;flex-direction: column;align-items: center;background-color: white;padding-right: 0.2em;padding-left: 0.2em;position: relative;}#sk-container-id-23 div.sk-item {position: relative;z-index: 1;}#sk-container-id-23 div.sk-parallel {display: flex;align-items: stretch;justify-content: center;background-color: white;position: relative;}#sk-container-id-23 div.sk-item::before, #sk-container-id-23 div.sk-parallel-item::before {content: \"\";position: absolute;border-left: 1px solid gray;box-sizing: border-box;top: 0;bottom: 0;left: 50%;z-index: -1;}#sk-container-id-23 div.sk-parallel-item {display: flex;flex-direction: column;z-index: 1;position: relative;background-color: white;}#sk-container-id-23 div.sk-parallel-item:first-child::after {align-self: flex-end;width: 50%;}#sk-container-id-23 div.sk-parallel-item:last-child::after {align-self: flex-start;width: 50%;}#sk-container-id-23 div.sk-parallel-item:only-child::after {width: 0;}#sk-container-id-23 div.sk-dashed-wrapped {border: 1px dashed gray;margin: 0 0.4em 0.5em 0.4em;box-sizing: border-box;padding-bottom: 0.4em;background-color: white;}#sk-container-id-23 div.sk-label label {font-family: monospace;font-weight: bold;display: inline-block;line-height: 1.2em;}#sk-container-id-23 div.sk-label-container {text-align: center;}#sk-container-id-23 div.sk-container {/* jupyter's `normalize.less` sets `[hidden] { display: none; }` but bootstrap.min.css set `[hidden] { display: none !important; }` so we also need the `!important` here to be able to override the default hidden behavior on the sphinx rendered scikit-learn.org. See: https://github.com/scikit-learn/scikit-learn/issues/21755 */display: inline-block !important;position: relative;}#sk-container-id-23 div.sk-text-repr-fallback {display: none;}</style><div id=\"sk-container-id-23\" class=\"sk-top-container\"><div class=\"sk-text-repr-fallback\"><pre>DecisionTreeClassifier(criterion=&#x27;entropy&#x27;, max_depth=7, max_features=&#x27;log2&#x27;,\n",
       "                       random_state=42)</pre><b>In a Jupyter environment, please rerun this cell to show the HTML representation or trust the notebook. <br />On GitHub, the HTML representation is unable to render, please try loading this page with nbviewer.org.</b></div><div class=\"sk-container\" hidden><div class=\"sk-item\"><div class=\"sk-estimator sk-toggleable\"><input class=\"sk-toggleable__control sk-hidden--visually\" id=\"sk-estimator-id-23\" type=\"checkbox\" checked><label for=\"sk-estimator-id-23\" class=\"sk-toggleable__label sk-toggleable__label-arrow\">DecisionTreeClassifier</label><div class=\"sk-toggleable__content\"><pre>DecisionTreeClassifier(criterion=&#x27;entropy&#x27;, max_depth=7, max_features=&#x27;log2&#x27;,\n",
       "                       random_state=42)</pre></div></div></div></div></div>"
      ],
      "text/plain": [
       "DecisionTreeClassifier(criterion='entropy', max_depth=7, max_features='log2',\n",
       "                       random_state=42)"
      ]
     },
     "execution_count": 314,
     "metadata": {},
     "output_type": "execute_result"
    }
   ],
   "source": [
    "tree_model_filtered = DecisionTreeClassifier(criterion = 'entropy', max_depth = 7, max_features = 'log2', random_state=42)\n",
    "tree_model_filtered.fit(X_train_filtered, y_train_filtered)"
   ]
  },
  {
   "cell_type": "code",
   "execution_count": 315,
   "metadata": {},
   "outputs": [
    {
     "data": {
      "text/html": [
       "<div>\n",
       "<style scoped>\n",
       "    .dataframe tbody tr th:only-of-type {\n",
       "        vertical-align: middle;\n",
       "    }\n",
       "\n",
       "    .dataframe tbody tr th {\n",
       "        vertical-align: top;\n",
       "    }\n",
       "\n",
       "    .dataframe thead th {\n",
       "        text-align: right;\n",
       "    }\n",
       "</style>\n",
       "<table border=\"1\" class=\"dataframe\">\n",
       "  <thead>\n",
       "    <tr style=\"text-align: right;\">\n",
       "      <th></th>\n",
       "      <th>Score</th>\n",
       "    </tr>\n",
       "  </thead>\n",
       "  <tbody>\n",
       "    <tr>\n",
       "      <th>Accuracy</th>\n",
       "      <td>0.748815</td>\n",
       "    </tr>\n",
       "    <tr>\n",
       "      <th>F1-score (macro)</th>\n",
       "      <td>0.712267</td>\n",
       "    </tr>\n",
       "    <tr>\n",
       "      <th>Recall (macro)</th>\n",
       "      <td>0.745356</td>\n",
       "    </tr>\n",
       "    <tr>\n",
       "      <th>Geometric Mean</th>\n",
       "      <td>0.745319</td>\n",
       "    </tr>\n",
       "    <tr>\n",
       "      <th>Cohen's Kappa</th>\n",
       "      <td>0.432665</td>\n",
       "    </tr>\n",
       "  </tbody>\n",
       "</table>\n",
       "</div>"
      ],
      "text/plain": [
       "                     Score\n",
       "Accuracy          0.748815\n",
       "F1-score (macro)  0.712267\n",
       "Recall (macro)    0.745356\n",
       "Geometric Mean    0.745319\n",
       "Cohen's Kappa     0.432665"
      ]
     },
     "execution_count": 315,
     "metadata": {},
     "output_type": "execute_result"
    }
   ],
   "source": [
    "# Make predictions on the testing data\n",
    "y_pred_filtered = tree_model_filtered.predict(X_test)\n",
    "\n",
    "# Calculate metrics\n",
    "metrics_df_filtered = calculate_metrics(y_test, y_pred_filtered)\n",
    "metrics_df_filtered"
   ]
  },
  {
   "cell_type": "code",
   "execution_count": 316,
   "metadata": {},
   "outputs": [
    {
     "data": {
      "image/png": "[encoded data removed]",
      "text/plain": [
       "<Figure size 400x300 with 1 Axes>"
      ]
     },
     "metadata": {},
     "output_type": "display_data"
    }
   ],
   "source": [
    "# Plot confusion matrix\n",
    "plot_confusion_matrix(y_test, y_pred_filtered)"
   ]
  },
  {
   "cell_type": "code",
   "execution_count": 317,
   "metadata": {},
   "outputs": [
    {
     "name": "stdout",
     "output_type": "stream",
     "text": [
      "Error rate per class:\n",
      "[0.24725629 0.26203209]\n",
      "\n",
      "F1 score per class:\n",
      "[0.81481481 0.60972018]\n"
     ]
    }
   ],
   "source": [
    "# Error rate per class\n",
    "print('Error rate per class:')\n",
    "print(calculate_error_rate_per_class(y_test, y_pred_filtered))\n",
    "\n",
    "# Error rate per class\n",
    "print('\\nF1 score per class:')\n",
    "print(f1_score_per_class(y_test, y_pred_filtered))"
   ]
  }
 ],
 "metadata": {
  "kernelspec": {
   "display_name": "base",
   "language": "python",
   "name": "python3"
  },
  "language_info": {
   "codemirror_mode": {
    "name": "ipython",
    "version": 3
   },
   "file_extension": ".py",
   "mimetype": "text/x-python",
   "name": "python",
   "nbconvert_exporter": "python",
   "pygments_lexer": "ipython3",
   "version": "3.11.5"
  }
 },
 "nbformat": 4,
 "nbformat_minor": 2
}
